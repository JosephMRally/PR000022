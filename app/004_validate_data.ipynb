{
 "cells": [
  {
   "cell_type": "markdown",
   "id": "61bc965f-671e-4c85-9cbb-af6a1d1f4fc4",
   "metadata": {},
   "source": [
    "Read in a single file and make duplicates"
   ]
  },
  {
   "cell_type": "code",
   "execution_count": null,
   "id": "a14cd853-a6a6-4c44-9b82-7065b4d3a80a",
   "metadata": {},
   "outputs": [],
   "source": []
  },
  {
   "cell_type": "code",
   "execution_count": null,
   "id": "07f55ad4-9eeb-454d-bb2f-cc4d66f6879a",
   "metadata": {},
   "outputs": [],
   "source": []
  },
  {
   "cell_type": "code",
   "execution_count": null,
   "id": "fb79b0ee-facc-4d9b-b562-b15d0e9ca972",
   "metadata": {},
   "outputs": [],
   "source": []
  },
  {
   "cell_type": "code",
   "execution_count": 2,
   "id": "ca087530-9d3b-44c8-8aed-7e4ab96723a5",
   "metadata": {},
   "outputs": [],
   "source": [
    "window = Window.orderBy(\"value\")"
   ]
  },
  {
   "cell_type": "code",
   "execution_count": 5,
   "id": "6a696ef4-4297-403f-96df-50b065f80c39",
   "metadata": {},
   "outputs": [
    {
     "name": "stdout",
     "output_type": "stream",
     "text": [
      "+-----+---+\n",
      "|value| rn|\n",
      "+-----+---+\n",
      "|     |  1|\n",
      "|     |  1|\n",
      "|     |  2|\n",
      "|     |  2|\n",
      "|     |  3|\n",
      "|     |  3|\n",
      "|     |  4|\n",
      "|     |  4|\n",
      "|     |  5|\n",
      "|     |  5|\n",
      "+-----+---+\n",
      "only showing top 10 rows\n",
      "\n"
     ]
    }
   ],
   "source": [
    "df_1 = (spark.read.text(\"textfile.txt\")\n",
    "        .withColumn(\"rn\", F.row_number().over(window))\n",
    "     )\n",
    "df_dup = df_1.unionAll(df_1).orderBy(F.col(\"rn\"))\n",
    "df_nodup = df_1\n",
    "df_dup.show(10)"
   ]
  },
  {
   "cell_type": "markdown",
   "id": "11c81bf8-01e1-4745-acf2-2d0a6db55263",
   "metadata": {},
   "source": [
    "# validate that PKs are unique"
   ]
  },
  {
   "cell_type": "markdown",
   "id": "077a87f1-5f7a-42a0-8843-a92b312b6100",
   "metadata": {},
   "source": [
    "Any method of the dedup notebook will work but the above is the easiest and computationally least expensive"
   ]
  },
  {
   "cell_type": "code",
   "execution_count": 9,
   "id": "3fd95933-1812-4c6d-a6f5-54e66983866b",
   "metadata": {},
   "outputs": [
    {
     "data": {
      "text/plain": [
       "False"
      ]
     },
     "execution_count": 9,
     "metadata": {},
     "output_type": "execute_result"
    }
   ],
   "source": [
    "df_dup.select(\"rn\").count() == df_dup.select(\"rn\").distinct().count() # should be false"
   ]
  },
  {
   "cell_type": "code",
   "execution_count": 10,
   "id": "8f59d5a0-5422-4d4d-b51d-ba2fab7454d3",
   "metadata": {},
   "outputs": [
    {
     "data": {
      "text/plain": [
       "True"
      ]
     },
     "execution_count": 10,
     "metadata": {},
     "output_type": "execute_result"
    }
   ],
   "source": [
    "df_nodup.select(\"rn\").count() == df_nodup.select(\"rn\").distinct().count() # should be true"
   ]
  },
  {
   "cell_type": "markdown",
   "id": "53ca520c-4eef-426e-9202-4e29830f71fe",
   "metadata": {},
   "source": [
    "# validate existince of a value in a specified column"
   ]
  },
  {
   "cell_type": "code",
   "execution_count": 15,
   "id": "100cdcea-4cce-4f51-8a10-72195961061d",
   "metadata": {},
   "outputs": [
    {
     "data": {
      "text/plain": [
       "True"
      ]
     },
     "execution_count": 15,
     "metadata": {},
     "output_type": "execute_result"
    }
   ],
   "source": [
    "df_nodup.where(F.col(\"rn\") == 20).count() > 0"
   ]
  },
  {
   "cell_type": "markdown",
   "id": "5215043b-c9af-476e-b1f5-3e7a72032f9d",
   "metadata": {},
   "source": [
    "# casting to datetime"
   ]
  },
  {
   "cell_type": "code",
   "execution_count": 17,
   "id": "de4589b3-8ac9-40f7-b0d0-846017b33b21",
   "metadata": {},
   "outputs": [
    {
     "name": "stdout",
     "output_type": "stream",
     "text": [
      "+----------+\n",
      "|        dt|\n",
      "+----------+\n",
      "|2025-01-02|\n",
      "+----------+\n",
      "\n"
     ]
    }
   ],
   "source": [
    "spark.sql(\"\"\"select to_date(\"2025-01-02\", \"yyyy-MM-dd\") as dt\"\"\").show()"
   ]
  },
  {
   "cell_type": "code",
   "execution_count": 27,
   "id": "c9a3a128-8278-4434-9785-9bf6f29de091",
   "metadata": {},
   "outputs": [
    {
     "name": "stdout",
     "output_type": "stream",
     "text": [
      "+----------+\n",
      "|         a|\n",
      "+----------+\n",
      "|2025-01-02|\n",
      "|2025-02-02|\n",
      "+----------+\n",
      "\n"
     ]
    }
   ],
   "source": [
    "df_dates = spark.sparkContext.parallelize([(\"2025-01-02\",),(\"2025-02-02\",)]).toDF([\"a\"])\n",
    "df_dates.show()"
   ]
  },
  {
   "cell_type": "code",
   "execution_count": 29,
   "id": "07903090-8f69-485c-8f55-d99726ab7abd",
   "metadata": {},
   "outputs": [
    {
     "name": "stdout",
     "output_type": "stream",
     "text": [
      "root\n",
      " |-- a: string (nullable = true)\n",
      " |-- b: date (nullable = true)\n",
      "\n",
      "+----------+----------+\n",
      "|         a|         b|\n",
      "+----------+----------+\n",
      "|2025-01-02|2025-01-02|\n",
      "|2025-02-02|2025-02-02|\n",
      "+----------+----------+\n",
      "\n"
     ]
    }
   ],
   "source": [
    "df_dates_1 = df_dates.withColumn(\"b\", F.to_date(F.col(\"a\"), \"yyyy-MM-dd\"))\n",
    "df_dates_1.printSchema()\n",
    "df_dates_1.show()"
   ]
  },
  {
   "cell_type": "code",
   "execution_count": 33,
   "id": "450acfbc-a646-4ddd-ab08-d23e191be35f",
   "metadata": {},
   "outputs": [
    {
     "name": "stdout",
     "output_type": "stream",
     "text": [
      "root\n",
      " |-- a: string (nullable = true)\n",
      " |-- b: date (nullable = true)\n",
      " |-- c: timestamp (nullable = true)\n",
      "\n",
      "+----------+----------+-------------------+\n",
      "|         a|         b|                  c|\n",
      "+----------+----------+-------------------+\n",
      "|2025-01-02|2025-01-02|2025-01-02 00:00:00|\n",
      "|2025-02-02|2025-02-02|2025-02-02 00:00:00|\n",
      "+----------+----------+-------------------+\n",
      "\n"
     ]
    }
   ],
   "source": [
    "df_dates_2 = df_dates_1.withColumn(\"c\", F.to_timestamp(F.col(\"a\"), \"yyyy-MM-dd\"))\n",
    "df_dates_2.printSchema()\n",
    "df_dates_2.show()"
   ]
  },
  {
   "cell_type": "code",
   "execution_count": 38,
   "id": "4da3bb79-2790-43f2-b210-674090291a33",
   "metadata": {},
   "outputs": [
    {
     "name": "stdout",
     "output_type": "stream",
     "text": [
      "root\n",
      " |-- a: string (nullable = true)\n",
      " |-- b: date (nullable = true)\n",
      " |-- c: timestamp (nullable = true)\n",
      " |-- d: date (nullable = true)\n",
      " |-- e: string (nullable = true)\n",
      "\n",
      "+----------+----------+-------------------+----------+----------+\n",
      "|         a|         b|                  c|         d|         e|\n",
      "+----------+----------+-------------------+----------+----------+\n",
      "|2025-01-02|2025-01-02|2025-01-02 00:00:00|2025-01-02|01-02-2025|\n",
      "|2025-02-02|2025-02-02|2025-02-02 00:00:00|2025-02-02|02-02-2025|\n",
      "+----------+----------+-------------------+----------+----------+\n",
      "\n"
     ]
    }
   ],
   "source": [
    "df_dates_3 = (df_dates_2\n",
    "              .withColumn(\"d\", F.to_date(F.col(\"c\")))\n",
    "              .withColumn(\"e\", F.date_format(F.col(\"c\"), \"MM-dd-yyyy\")) \n",
    "             )\n",
    "df_dates_3.printSchema()\n",
    "df_dates_3.show()"
   ]
  },
  {
   "cell_type": "markdown",
   "id": "a0c432c3-ee6f-440d-b8d1-0728086db3a4",
   "metadata": {},
   "source": [
    "# extracting a specific pattern from incoming data"
   ]
  },
  {
   "cell_type": "code",
   "execution_count": 45,
   "id": "4ed8ab9a-7066-4ae9-9d07-760f391f0c4b",
   "metadata": {},
   "outputs": [
    {
     "name": "stdout",
     "output_type": "stream",
     "text": [
      "+--------------------+---+-----------+\n",
      "|               value| rn|extracted 1|\n",
      "+--------------------+---+-----------+\n",
      "|At last, she foun...| 13|        the|\n",
      "|Disclaimer: While...| 14|        the|\n",
      "|Elara, though fri...| 15|        the|\n",
      "|Finally, Elara re...| 16|        the|\n",
      "|In the days of yo...| 17|        the|\n",
      "|Note: This is jus...| 18|        the|\n",
      "|One fateful morn,...| 19|        the|\n",
      "|The kingdom was s...| 22|        the|\n",
      "|With the sword in...| 23|        the|\n",
      "+--------------------+---+-----------+\n",
      "\n"
     ]
    }
   ],
   "source": [
    "df_ext_1 = df_nodup.withColumn(\"extracted 1\", F.regexp_extract(\"value\", \"the\", 0)).where(F.col(\"extracted 1\") != \"\")\n",
    "df_ext_1.show()"
   ]
  },
  {
   "cell_type": "code",
   "execution_count": 49,
   "id": "a7e46fc2-0cbd-47c8-ae7f-6be05d7fc386",
   "metadata": {},
   "outputs": [
    {
     "name": "stdout",
     "output_type": "stream",
     "text": [
      "+--------------------+---+-----------+\n",
      "|               value| rn|extracted 1|\n",
      "+--------------------+---+-----------+\n",
      "|At last, she foun...| 13|        the|\n",
      "|Elara, though fri...| 15|        the|\n",
      "|In the days of yo...| 17|        the|\n",
      "|The kingdom was s...| 22|        the|\n",
      "|With the sword in...| 23|        the|\n",
      "+--------------------+---+-----------+\n",
      "\n"
     ]
    }
   ],
   "source": [
    "df_ext_2 = df_ext_1.where(F.col(\"value\").contains(\"she\")) # startswith and endswith too\n",
    "df_ext_2.show()"
   ]
  },
  {
   "cell_type": "markdown",
   "id": "795cfcff-f6f2-4e92-866f-4b605af32644",
   "metadata": {},
   "source": [
    "# extracting from nested fields"
   ]
  },
  {
   "cell_type": "code",
   "execution_count": 55,
   "id": "eee7cedf-142e-45e8-a131-44bfbe513fef",
   "metadata": {},
   "outputs": [
    {
     "name": "stdout",
     "output_type": "stream",
     "text": [
      "+--------------------+\n",
      "|                   a|\n",
      "+--------------------+\n",
      "|[Disclaimer:, Whi...|\n",
      "|[Prompt:, Generat...|\n",
      "|[A, Tale, of, Woe...|\n",
      "|[In, the, days, o...|\n",
      "|[One, fateful, mo...|\n",
      "|[Elara,, though, ...|\n",
      "|[With, the, sword...|\n",
      "|[Finally,, Elara,...|\n",
      "|[At, last,, she, ...|\n",
      "|[The, kingdom, wa...|\n",
      "|[Note:, This, is,...|\n",
      "+--------------------+\n",
      "\n"
     ]
    }
   ],
   "source": [
    "df_array = df_nodup.select(F.split(F.col(\"value\"),\" \").alias(\"a\")).where(F.size(F.col(\"a\"))>1).show()"
   ]
  },
  {
   "cell_type": "code",
   "execution_count": null,
   "id": "ffa3467a-218f-47a4-86c4-7b2be53d3114",
   "metadata": {},
   "outputs": [],
   "source": []
  },
  {
   "cell_type": "code",
   "execution_count": null,
   "id": "adaaf2aa-c4e2-489d-aa4d-ed0e76f22ca0",
   "metadata": {},
   "outputs": [],
   "source": []
  },
  {
   "cell_type": "code",
   "execution_count": null,
   "id": "00143b6d-0aba-4e1b-8053-20475a7ac80e",
   "metadata": {},
   "outputs": [],
   "source": []
  },
  {
   "cell_type": "code",
   "execution_count": null,
   "id": "7d1fb66d-4b9f-49d8-93c0-5fc76cc28b2a",
   "metadata": {},
   "outputs": [],
   "source": []
  },
  {
   "cell_type": "code",
   "execution_count": null,
   "id": "2d35f2eb-d8c4-42d4-b1e9-9e22aa4b1973",
   "metadata": {},
   "outputs": [],
   "source": []
  },
  {
   "cell_type": "code",
   "execution_count": null,
   "id": "96625b9d-d29a-461f-bd9c-c694dec7481b",
   "metadata": {},
   "outputs": [],
   "source": []
  },
  {
   "cell_type": "code",
   "execution_count": null,
   "id": "c8db13ae-7d96-495c-93db-532011d5996e",
   "metadata": {},
   "outputs": [],
   "source": []
  }
 ],
 "metadata": {
  "kernelspec": {
   "display_name": "Python 3 (ipykernel)",
   "language": "python",
   "name": "python3"
  },
  "language_info": {
   "codemirror_mode": {
    "name": "ipython",
    "version": 3
   },
   "file_extension": ".py",
   "mimetype": "text/x-python",
   "name": "python",
   "nbconvert_exporter": "python",
   "pygments_lexer": "ipython3",
   "version": "3.11.4"
  }
 },
 "nbformat": 4,
 "nbformat_minor": 5
}
