{
 "cells": [
  {
   "cell_type": "code",
   "execution_count": 1,
   "id": "3688c252-f725-48dd-a698-b62940bacddb",
   "metadata": {},
   "outputs": [
    {
     "name": "stderr",
     "output_type": "stream",
     "text": [
      "Setting default log level to \"WARN\".\n",
      "To adjust logging level use sc.setLogLevel(newLevel). For SparkR, use setLogLevel(newLevel).\n",
      "25/02/12 01:32:33 WARN NativeCodeLoader: Unable to load native-hadoop library for your platform... using builtin-java classes where applicable\n"
     ]
    }
   ],
   "source": [
    "import pyspark\n",
    "from delta import *\n",
    "from pyspark.sql import SparkSession\n",
    "import pyspark.sql.functions as f\n",
    "spark = (SparkSession.builder.appName(\"SparkSample\").getOrCreate())"
   ]
  },
  {
   "cell_type": "markdown",
   "id": "61bc965f-671e-4c85-9cbb-af6a1d1f4fc4",
   "metadata": {},
   "source": [
    "Read in a single file"
   ]
  },
  {
   "cell_type": "code",
   "execution_count": 2,
   "id": "6a696ef4-4297-403f-96df-50b065f80c39",
   "metadata": {},
   "outputs": [
    {
     "name": "stdout",
     "output_type": "stream",
     "text": [
      "+--------------------+\n",
      "|               value|\n",
      "+--------------------+\n",
      "|Disclaimer: While...|\n",
      "|                    |\n",
      "+--------------------+\n",
      "only showing top 2 rows\n",
      "\n"
     ]
    }
   ],
   "source": [
    "spark.read.text(\"textfile.txt\").show(2)"
   ]
  },
  {
   "cell_type": "code",
   "execution_count": null,
   "id": "0e20beef-1c41-4164-af96-56c6a6517931",
   "metadata": {},
   "outputs": [],
   "source": [
    "spark.readStream.text(\"textfile.txt\")"
   ]
  },
  {
   "cell_type": "code",
   "execution_count": 4,
   "id": "65268544-fd9c-40b9-9e48-05a2008ada5c",
   "metadata": {},
   "outputs": [
    {
     "name": "stderr",
     "output_type": "stream",
     "text": [
      "25/02/12 01:33:45 WARN HiveConf: HiveConf of name hive.stats.jdbc.timeout does not exist\n",
      "25/02/12 01:33:45 WARN HiveConf: HiveConf of name hive.stats.retries.wait does not exist\n",
      "25/02/12 01:33:46 WARN ObjectStore: Version information not found in metastore. hive.metastore.schema.verification is not enabled so recording the schema version 2.3.0\n",
      "25/02/12 01:33:46 WARN ObjectStore: setMetaStoreSchemaVersion called but recording version is disabled: version = 2.3.0, comment = Set by MetaStore UNKNOWN@172.17.0.3\n",
      "25/02/12 01:33:46 WARN ObjectStore: Failed to get database default, returning NoSuchObjectException\n",
      "25/02/12 01:33:46 WARN ObjectStore: Failed to get database global_temp, returning NoSuchObjectException\n",
      "25/02/12 01:33:46 WARN ObjectStore: Failed to get database text, returning NoSuchObjectException\n"
     ]
    },
    {
     "name": "stdout",
     "output_type": "stream",
     "text": [
      "+--------------------+\n",
      "|               value|\n",
      "+--------------------+\n",
      "|Disclaimer: While...|\n",
      "|                    |\n",
      "|Prompt: Generate ...|\n",
      "|                    |\n",
      "|           Response:|\n",
      "|                    |\n",
      "|A Tale of Woe and...|\n",
      "|                    |\n",
      "|In the days of yo...|\n",
      "|                    |\n",
      "|One fateful morn,...|\n",
      "|                    |\n",
      "|Elara, though fri...|\n",
      "|                    |\n",
      "|With the sword in...|\n",
      "|                    |\n",
      "|Finally, Elara re...|\n",
      "|                    |\n",
      "|At last, she foun...|\n",
      "|                    |\n",
      "+--------------------+\n",
      "only showing top 20 rows\n",
      "\n"
     ]
    }
   ],
   "source": [
    "spark.sql(\"select * from text.`textfile.txt`\").show()"
   ]
  },
  {
   "cell_type": "code",
   "execution_count": null,
   "id": "87ff8251-091f-4517-ac06-cb896d1c37f0",
   "metadata": {},
   "outputs": [],
   "source": []
  }
 ],
 "metadata": {
  "kernelspec": {
   "display_name": "Python 3 (ipykernel)",
   "language": "python",
   "name": "python3"
  },
  "language_info": {
   "codemirror_mode": {
    "name": "ipython",
    "version": 3
   },
   "file_extension": ".py",
   "mimetype": "text/x-python",
   "name": "python",
   "nbconvert_exporter": "python",
   "pygments_lexer": "ipython3",
   "version": "3.11.4"
  }
 },
 "nbformat": 4,
 "nbformat_minor": 5
}
