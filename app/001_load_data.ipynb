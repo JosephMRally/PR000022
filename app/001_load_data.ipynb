{
 "cells": [
  {
   "cell_type": "code",
   "execution_count": 1,
   "id": "3688c252-f725-48dd-a698-b62940bacddb",
   "metadata": {},
   "outputs": [
    {
     "name": "stderr",
     "output_type": "stream",
     "text": [
      "Setting default log level to \"WARN\".\n",
      "To adjust logging level use sc.setLogLevel(newLevel). For SparkR, use setLogLevel(newLevel).\n",
      "25/02/12 16:16:28 WARN NativeCodeLoader: Unable to load native-hadoop library for your platform... using builtin-java classes where applicable\n",
      "25/02/12 16:16:28 WARN Utils: Service 'SparkUI' could not bind on port 4040. Attempting port 4041.\n",
      "25/02/12 16:16:28 WARN Utils: Service 'SparkUI' could not bind on port 4041. Attempting port 4042.\n",
      "25/02/12 16:16:28 WARN Utils: Service 'SparkUI' could not bind on port 4042. Attempting port 4043.\n"
     ]
    }
   ],
   "source": [
    "import pyspark\n",
    "from delta import *\n",
    "from pyspark.sql import SparkSession\n",
    "import pyspark.sql.functions as f\n",
    "spark = (SparkSession.builder.appName(\"SparkSample\").getOrCreate())\n",
    "spark.sparkContext.setLogLevel('ERROR')"
   ]
  },
  {
   "cell_type": "markdown",
   "id": "61bc965f-671e-4c85-9cbb-af6a1d1f4fc4",
   "metadata": {},
   "source": [
    "Read in a single file"
   ]
  },
  {
   "cell_type": "code",
   "execution_count": 2,
   "id": "6a696ef4-4297-403f-96df-50b065f80c39",
   "metadata": {},
   "outputs": [
    {
     "name": "stdout",
     "output_type": "stream",
     "text": [
      "+--------------------+\n",
      "|               value|\n",
      "+--------------------+\n",
      "|Disclaimer: While...|\n",
      "|                    |\n",
      "+--------------------+\n",
      "only showing top 2 rows\n",
      "\n"
     ]
    }
   ],
   "source": [
    "spark.read.text(\"textfile.txt\").show(2)"
   ]
  },
  {
   "cell_type": "code",
   "execution_count": 3,
   "id": "0e20beef-1c41-4164-af96-56c6a6517931",
   "metadata": {},
   "outputs": [
    {
     "data": {
      "text/plain": [
       "DataFrame[value: string]"
      ]
     },
     "execution_count": 3,
     "metadata": {},
     "output_type": "execute_result"
    }
   ],
   "source": [
    "spark.readStream.text(\"textfile.txt\")"
   ]
  },
  {
   "cell_type": "code",
   "execution_count": 4,
   "id": "65268544-fd9c-40b9-9e48-05a2008ada5c",
   "metadata": {},
   "outputs": [
    {
     "name": "stdout",
     "output_type": "stream",
     "text": [
      "+--------------------+\n",
      "|               value|\n",
      "+--------------------+\n",
      "|Disclaimer: While...|\n",
      "|                    |\n",
      "|Prompt: Generate ...|\n",
      "|                    |\n",
      "|           Response:|\n",
      "|                    |\n",
      "|A Tale of Woe and...|\n",
      "|                    |\n",
      "|In the days of yo...|\n",
      "|                    |\n",
      "|One fateful morn,...|\n",
      "|                    |\n",
      "|Elara, though fri...|\n",
      "|                    |\n",
      "|With the sword in...|\n",
      "|                    |\n",
      "|Finally, Elara re...|\n",
      "|                    |\n",
      "|At last, she foun...|\n",
      "|                    |\n",
      "+--------------------+\n",
      "only showing top 20 rows\n",
      "\n"
     ]
    }
   ],
   "source": [
    "spark.sql(\"select * from text.`textfile.txt`\").show()"
   ]
  },
  {
   "cell_type": "code",
   "execution_count": null,
   "id": "87ff8251-091f-4517-ac06-cb896d1c37f0",
   "metadata": {},
   "outputs": [],
   "source": []
  }
 ],
 "metadata": {
  "kernelspec": {
   "display_name": "Python 3 (ipykernel)",
   "language": "python",
   "name": "python3"
  },
  "language_info": {
   "codemirror_mode": {
    "name": "ipython",
    "version": 3
   },
   "file_extension": ".py",
   "mimetype": "text/x-python",
   "name": "python",
   "nbconvert_exporter": "python",
   "pygments_lexer": "ipython3",
   "version": "3.11.4"
  }
 },
 "nbformat": 4,
 "nbformat_minor": 5
}
