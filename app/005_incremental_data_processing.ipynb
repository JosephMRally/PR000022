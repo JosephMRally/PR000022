{
 "cells": [
  {
   "cell_type": "markdown",
   "id": "61bc965f-671e-4c85-9cbb-af6a1d1f4fc4",
   "metadata": {},
   "source": [
    "Read in a single file and make duplicates"
   ]
  },
  {
   "cell_type": "code",
   "execution_count": 2,
   "id": "a14cd853-a6a6-4c44-9b82-7065b4d3a80a",
   "metadata": {},
   "outputs": [
    {
     "name": "stdout",
     "output_type": "stream",
     "text": [
      ":: loading settings :: url = jar:file:/home/spark/jars/ivy-2.5.1.jar!/org/apache/ivy/core/settings/ivysettings.xml\n"
     ]
    },
    {
     "name": "stderr",
     "output_type": "stream",
     "text": [
      "Ivy Default Cache set to: /home/sparkuser/.ivy2/cache\n",
      "The jars for the packages stored in: /home/sparkuser/.ivy2/jars\n",
      "io.delta#delta-spark_2.12 added as a dependency\n",
      ":: resolving dependencies :: org.apache.spark#spark-submit-parent-c6388755-197b-4974-90cd-ff7fa07bfa6d;1.0\n",
      "\tconfs: [default]\n",
      "\tfound io.delta#delta-spark_2.12;3.1.0 in central\n",
      "\tfound io.delta#delta-storage;3.1.0 in central\n",
      "\tfound org.antlr#antlr4-runtime;4.9.3 in central\n",
      "downloading https://repo1.maven.org/maven2/io/delta/delta-spark_2.12/3.1.0/delta-spark_2.12-3.1.0.jar ...\n",
      "\t[SUCCESSFUL ] io.delta#delta-spark_2.12;3.1.0!delta-spark_2.12.jar (1900ms)\n",
      "downloading https://repo1.maven.org/maven2/io/delta/delta-storage/3.1.0/delta-storage-3.1.0.jar ...\n",
      "\t[SUCCESSFUL ] io.delta#delta-storage;3.1.0!delta-storage.jar (82ms)\n",
      "downloading https://repo1.maven.org/maven2/org/antlr/antlr4-runtime/4.9.3/antlr4-runtime-4.9.3.jar ...\n",
      "\t[SUCCESSFUL ] org.antlr#antlr4-runtime;4.9.3!antlr4-runtime.jar (96ms)\n",
      ":: resolution report :: resolve 2175ms :: artifacts dl 2083ms\n",
      "\t:: modules in use:\n",
      "\tio.delta#delta-spark_2.12;3.1.0 from central in [default]\n",
      "\tio.delta#delta-storage;3.1.0 from central in [default]\n",
      "\torg.antlr#antlr4-runtime;4.9.3 from central in [default]\n",
      "\t---------------------------------------------------------------------\n",
      "\t|                  |            modules            ||   artifacts   |\n",
      "\t|       conf       | number| search|dwnlded|evicted|| number|dwnlded|\n",
      "\t---------------------------------------------------------------------\n",
      "\t|      default     |   3   |   3   |   3   |   0   ||   3   |   3   |\n",
      "\t---------------------------------------------------------------------\n",
      ":: retrieving :: org.apache.spark#spark-submit-parent-c6388755-197b-4974-90cd-ff7fa07bfa6d\n",
      "\tconfs: [default]\n",
      "\t3 artifacts copied, 0 already retrieved (5727kB/10ms)\n",
      "25/02/13 17:50:41 WARN NativeCodeLoader: Unable to load native-hadoop library for your platform... using builtin-java classes where applicable\n",
      "Setting default log level to \"WARN\".\n",
      "To adjust logging level use sc.setLogLevel(newLevel). For SparkR, use setLogLevel(newLevel).\n"
     ]
    }
   ],
   "source": [
    "import pyspark\n",
    "from delta import *\n",
    "from pyspark.sql import SparkSession\n",
    "import pyspark.sql.functions as F\n",
    "from pyspark.sql.window import Window\n",
    "import json\n",
    "spark = (pyspark.sql.SparkSession.builder.appName(\"MyApp\").master(\"local[*]\")\n",
    "    .config(\"spark.jars.packages\", \"io.delta:delta-spark_2.12:3.1.0\")\n",
    "    .config(\"spark.sql.extensions\", \"io.delta.sql.DeltaSparkSessionExtension\")\n",
    "    .config(\"spark.sql.catalog.spark_catalog\", \"org.apache.spark.sql.delta.catalog.DeltaCatalog\")\n",
    "    .config(\"spark.delta.logStore.class\", \"org.apache.spark.sql.delta.storage.S3SingleDriverLogStore\")\n",
    ".getOrCreate())\n",
    "spark.sparkContext.setLogLevel('ERROR')"
   ]
  },
  {
   "cell_type": "code",
   "execution_count": 3,
   "id": "2d35f2eb-d8c4-42d4-b1e9-9e22aa4b1973",
   "metadata": {},
   "outputs": [
    {
     "name": "stderr",
     "output_type": "stream",
     "text": [
      "                                                                                "
     ]
    },
    {
     "name": "stdout",
     "output_type": "stream",
     "text": [
      "+---+----+----------------+------+\n",
      "|age|  id|        metadata|  name|\n",
      "+---+----+----------------+------+\n",
      "| 37|2111|[[a, 1], [b, 2]]|OLIVIA|\n",
      "+---+----+----------------+------+\n",
      "\n"
     ]
    }
   ],
   "source": [
    "df_array = [\"\"\"{\"id\": \"2111\", \"name\": \"OLIVIA\", \"age\": \"37\", \"metadata\":[[\"a\",1], [\"b\",2]]}\"\"\"]\n",
    "df_array = spark.sparkContext.parallelize(df_array)\n",
    "df_array = spark.read.json(df_array)\n",
    "df_array.show()"
   ]
  },
  {
   "cell_type": "code",
   "execution_count": 5,
   "id": "6299cec0-3d68-4b23-b21e-71ac044ef258",
   "metadata": {},
   "outputs": [
    {
     "data": {
      "text/plain": [
       "DataFrame[]"
      ]
     },
     "execution_count": 5,
     "metadata": {},
     "output_type": "execute_result"
    }
   ],
   "source": [
    "spark.sql(\"DROP TABLE IF EXISTS spark\")"
   ]
  },
  {
   "cell_type": "code",
   "execution_count": 6,
   "id": "03969fa5-5a27-4b84-958d-e8ae8a3233f5",
   "metadata": {},
   "outputs": [
    {
     "name": "stderr",
     "output_type": "stream",
     "text": [
      "                                                                                "
     ]
    }
   ],
   "source": [
    "df_array.write.format(\"delta\").mode(\"overwrite\").save(\"spark\")"
   ]
  },
  {
   "cell_type": "code",
   "execution_count": 7,
   "id": "b25899a9-5ce4-4115-a695-f203608bfe54",
   "metadata": {},
   "outputs": [],
   "source": [
    "df_array_2 = df_array.withColumn(\"name\", F.lower(F.col(\"name\")))"
   ]
  },
  {
   "cell_type": "code",
   "execution_count": 8,
   "id": "b750e1d5-0278-4118-ad7c-24796099f17a",
   "metadata": {},
   "outputs": [],
   "source": [
    "df_array.write.format(\"delta\").mode(\"overwrite\").save(\"spark\")"
   ]
  },
  {
   "cell_type": "code",
   "execution_count": 9,
   "id": "b73d75ae-43f0-4767-b609-86a8d9b1d8f5",
   "metadata": {},
   "outputs": [
    {
     "name": "stdout",
     "output_type": "stream",
     "text": [
      "+---+----+----------------+------+\n",
      "|age|  id|        metadata|  name|\n",
      "+---+----+----------------+------+\n",
      "| 37|2111|[[a, 1], [b, 2]]|OLIVIA|\n",
      "+---+----+----------------+------+\n",
      "\n"
     ]
    }
   ],
   "source": [
    "spark.read.format(\"delta\").load(\"spark\").show()"
   ]
  },
  {
   "cell_type": "markdown",
   "id": "787fcc49-c70e-44ed-8301-25215b391def",
   "metadata": {},
   "source": [
    "know how files are layed out in the delta lakes format"
   ]
  },
  {
   "cell_type": "code",
   "execution_count": 10,
   "id": "f012b147-6dc1-47e5-b48f-db07d62fb439",
   "metadata": {},
   "outputs": [
    {
     "name": "stdout",
     "output_type": "stream",
     "text": [
      "_delta_log\n",
      "part-00000-16b0701f-fa27-438f-9542-c86a5c2133d6-c000.snappy.parquet\n",
      "part-00000-1f324c2a-50c7-4ccc-9ef2-72440ec5997a-c000.snappy.parquet\n",
      "part-00000-240124c6-6773-4756-816d-5b8f6fe23921-c000.snappy.parquet\n",
      "part-00000-3fc3639d-e0c0-4c97-ba3c-da1317dd3f16-c000.snappy.parquet\n",
      "part-00000-49ac9f2d-6366-4d82-83d4-11eaa49e8b3c-c000.snappy.parquet\n",
      "part-00000-57c8f533-8d58-4f95-a573-6f2528ad667e-c000.snappy.parquet\n",
      "part-00000-5d7596ad-c915-478a-bc7e-6f97beb05d7e-c000.snappy.parquet\n",
      "part-00000-9c446b7c-32bb-405e-8fc4-ce272125d484-c000.snappy.parquet\n",
      "part-00000-b1396d66-41bd-4bb0-8ccc-70dce053ef8a-c000.snappy.parquet\n",
      "part-00000-e40fe0eb-2626-4b54-adb8-8a619136b72b-c000.snappy.parquet\n",
      "part-00000-f1885439-8175-4f07-8558-44cb87f666a3-c000.snappy.parquet\n",
      "part-00007-0e3f3116-ec64-4ccd-8dfa-b119b5387d4b-c000.snappy.parquet\n",
      "part-00007-1762504f-5eb6-446c-889a-9ec6814b8d05-c000.snappy.parquet\n",
      "part-00007-700f149a-3f26-44d2-9acb-99e96abfce03-c000.snappy.parquet\n",
      "part-00007-72364959-5a66-4543-8da3-1916d3b0600a-c000.snappy.parquet\n",
      "part-00007-81ba0798-4ed4-48af-a47d-d58083566ae2-c000.snappy.parquet\n",
      "part-00007-8d8d84b6-e34e-43c4-a055-1366a25c7763-c000.snappy.parquet\n",
      "part-00007-92073ce1-edba-4dba-8d4e-5e6b74605112-c000.snappy.parquet\n",
      "part-00007-9ce125e9-8a30-4b0f-960c-19d4adaf9a56-c000.snappy.parquet\n",
      "part-00007-bde0bccd-36ec-4d0b-bea4-ab05fec07bcd-c000.snappy.parquet\n",
      "part-00007-da8d5eec-963a-4217-bafb-f5979dcfeea6-c000.snappy.parquet\n",
      "part-00007-f81c94af-cef9-4043-bef3-b12084c6fbac-c000.snappy.parquet\n"
     ]
    }
   ],
   "source": [
    "!ls spark"
   ]
  },
  {
   "cell_type": "code",
   "execution_count": 11,
   "id": "b833ed2c-3811-4268-93c8-bc43328f4694",
   "metadata": {},
   "outputs": [
    {
     "name": "stdout",
     "output_type": "stream",
     "text": [
      "00000000000000000000.json  00000000000000000007.json\n",
      "00000000000000000001.json  00000000000000000008.json\n",
      "00000000000000000002.json  00000000000000000009.json\n",
      "00000000000000000003.json  00000000000000000010.checkpoint.parquet\n",
      "00000000000000000004.json  00000000000000000010.json\n",
      "00000000000000000005.json  _last_checkpoint\n",
      "00000000000000000006.json\n"
     ]
    }
   ],
   "source": [
    "!ls spark/_delta_log"
   ]
  },
  {
   "cell_type": "markdown",
   "id": "e35c06b8-22bf-4801-a5c1-a92f2d330100",
   "metadata": {},
   "source": [
    "look at the tables history"
   ]
  },
  {
   "cell_type": "code",
   "execution_count": 13,
   "id": "814e27e8-5500-43cc-bda1-5736b1dc7566",
   "metadata": {},
   "outputs": [
    {
     "data": {
      "text/html": [
       "<div>\n",
       "<style scoped>\n",
       "    .dataframe tbody tr th:only-of-type {\n",
       "        vertical-align: middle;\n",
       "    }\n",
       "\n",
       "    .dataframe tbody tr th {\n",
       "        vertical-align: top;\n",
       "    }\n",
       "\n",
       "    .dataframe thead th {\n",
       "        text-align: right;\n",
       "    }\n",
       "</style>\n",
       "<table border=\"1\" class=\"dataframe\">\n",
       "  <thead>\n",
       "    <tr style=\"text-align: right;\">\n",
       "      <th></th>\n",
       "      <th>version</th>\n",
       "      <th>timestamp</th>\n",
       "      <th>userId</th>\n",
       "      <th>userName</th>\n",
       "      <th>operation</th>\n",
       "      <th>operationParameters</th>\n",
       "      <th>job</th>\n",
       "      <th>notebook</th>\n",
       "      <th>clusterId</th>\n",
       "      <th>readVersion</th>\n",
       "      <th>isolationLevel</th>\n",
       "      <th>isBlindAppend</th>\n",
       "      <th>operationMetrics</th>\n",
       "      <th>userMetadata</th>\n",
       "      <th>engineInfo</th>\n",
       "    </tr>\n",
       "  </thead>\n",
       "  <tbody>\n",
       "    <tr>\n",
       "      <th>0</th>\n",
       "      <td>10</td>\n",
       "      <td>2025-02-13 17:51:41.670</td>\n",
       "      <td>None</td>\n",
       "      <td>None</td>\n",
       "      <td>WRITE</td>\n",
       "      <td>{'mode': 'Overwrite', 'partitionBy': '[]'}</td>\n",
       "      <td>None</td>\n",
       "      <td>None</td>\n",
       "      <td>None</td>\n",
       "      <td>9.0</td>\n",
       "      <td>Serializable</td>\n",
       "      <td>False</td>\n",
       "      <td>{'numOutputRows': '1', 'numOutputBytes': '2076...</td>\n",
       "      <td>None</td>\n",
       "      <td>Apache-Spark/3.5.4 Delta-Lake/3.1.0</td>\n",
       "    </tr>\n",
       "    <tr>\n",
       "      <th>1</th>\n",
       "      <td>9</td>\n",
       "      <td>2025-02-13 17:51:40.706</td>\n",
       "      <td>None</td>\n",
       "      <td>None</td>\n",
       "      <td>WRITE</td>\n",
       "      <td>{'mode': 'Overwrite', 'partitionBy': '[]'}</td>\n",
       "      <td>None</td>\n",
       "      <td>None</td>\n",
       "      <td>None</td>\n",
       "      <td>8.0</td>\n",
       "      <td>Serializable</td>\n",
       "      <td>False</td>\n",
       "      <td>{'numOutputRows': '1', 'numOutputBytes': '2076...</td>\n",
       "      <td>None</td>\n",
       "      <td>Apache-Spark/3.5.4 Delta-Lake/3.1.0</td>\n",
       "    </tr>\n",
       "    <tr>\n",
       "      <th>2</th>\n",
       "      <td>8</td>\n",
       "      <td>2025-02-13 17:16:44.839</td>\n",
       "      <td>None</td>\n",
       "      <td>None</td>\n",
       "      <td>WRITE</td>\n",
       "      <td>{'mode': 'Overwrite', 'partitionBy': '[]'}</td>\n",
       "      <td>None</td>\n",
       "      <td>None</td>\n",
       "      <td>None</td>\n",
       "      <td>7.0</td>\n",
       "      <td>Serializable</td>\n",
       "      <td>False</td>\n",
       "      <td>{'numOutputRows': '1', 'numOutputBytes': '2076...</td>\n",
       "      <td>None</td>\n",
       "      <td>Apache-Spark/3.5.4 Delta-Lake/3.1.0</td>\n",
       "    </tr>\n",
       "    <tr>\n",
       "      <th>3</th>\n",
       "      <td>7</td>\n",
       "      <td>2025-02-13 17:16:43.990</td>\n",
       "      <td>None</td>\n",
       "      <td>None</td>\n",
       "      <td>WRITE</td>\n",
       "      <td>{'mode': 'Overwrite', 'partitionBy': '[]'}</td>\n",
       "      <td>None</td>\n",
       "      <td>None</td>\n",
       "      <td>None</td>\n",
       "      <td>6.0</td>\n",
       "      <td>Serializable</td>\n",
       "      <td>False</td>\n",
       "      <td>{'numOutputRows': '1', 'numOutputBytes': '2076...</td>\n",
       "      <td>None</td>\n",
       "      <td>Apache-Spark/3.5.4 Delta-Lake/3.1.0</td>\n",
       "    </tr>\n",
       "    <tr>\n",
       "      <th>4</th>\n",
       "      <td>6</td>\n",
       "      <td>2025-02-13 17:01:04.787</td>\n",
       "      <td>None</td>\n",
       "      <td>None</td>\n",
       "      <td>WRITE</td>\n",
       "      <td>{'mode': 'Overwrite', 'partitionBy': '[]'}</td>\n",
       "      <td>None</td>\n",
       "      <td>None</td>\n",
       "      <td>None</td>\n",
       "      <td>5.0</td>\n",
       "      <td>Serializable</td>\n",
       "      <td>False</td>\n",
       "      <td>{'numOutputRows': '1', 'numOutputBytes': '2076...</td>\n",
       "      <td>None</td>\n",
       "      <td>Apache-Spark/3.5.4 Delta-Lake/3.1.0</td>\n",
       "    </tr>\n",
       "    <tr>\n",
       "      <th>5</th>\n",
       "      <td>5</td>\n",
       "      <td>2025-02-13 17:01:03.937</td>\n",
       "      <td>None</td>\n",
       "      <td>None</td>\n",
       "      <td>WRITE</td>\n",
       "      <td>{'mode': 'Overwrite', 'partitionBy': '[]'}</td>\n",
       "      <td>None</td>\n",
       "      <td>None</td>\n",
       "      <td>None</td>\n",
       "      <td>4.0</td>\n",
       "      <td>Serializable</td>\n",
       "      <td>False</td>\n",
       "      <td>{'numOutputRows': '1', 'numOutputBytes': '2076...</td>\n",
       "      <td>None</td>\n",
       "      <td>Apache-Spark/3.5.4 Delta-Lake/3.1.0</td>\n",
       "    </tr>\n",
       "    <tr>\n",
       "      <th>6</th>\n",
       "      <td>4</td>\n",
       "      <td>2025-02-13 17:00:34.811</td>\n",
       "      <td>None</td>\n",
       "      <td>None</td>\n",
       "      <td>WRITE</td>\n",
       "      <td>{'mode': 'Overwrite', 'partitionBy': '[]'}</td>\n",
       "      <td>None</td>\n",
       "      <td>None</td>\n",
       "      <td>None</td>\n",
       "      <td>3.0</td>\n",
       "      <td>Serializable</td>\n",
       "      <td>False</td>\n",
       "      <td>{'numOutputRows': '1', 'numOutputBytes': '2076...</td>\n",
       "      <td>None</td>\n",
       "      <td>Apache-Spark/3.5.4 Delta-Lake/3.1.0</td>\n",
       "    </tr>\n",
       "    <tr>\n",
       "      <th>7</th>\n",
       "      <td>3</td>\n",
       "      <td>2025-02-13 17:00:33.899</td>\n",
       "      <td>None</td>\n",
       "      <td>None</td>\n",
       "      <td>WRITE</td>\n",
       "      <td>{'mode': 'Overwrite', 'partitionBy': '[]'}</td>\n",
       "      <td>None</td>\n",
       "      <td>None</td>\n",
       "      <td>None</td>\n",
       "      <td>2.0</td>\n",
       "      <td>Serializable</td>\n",
       "      <td>False</td>\n",
       "      <td>{'numOutputRows': '1', 'numOutputBytes': '2076...</td>\n",
       "      <td>None</td>\n",
       "      <td>Apache-Spark/3.5.4 Delta-Lake/3.1.0</td>\n",
       "    </tr>\n",
       "    <tr>\n",
       "      <th>8</th>\n",
       "      <td>2</td>\n",
       "      <td>2025-02-13 16:59:30.985</td>\n",
       "      <td>None</td>\n",
       "      <td>None</td>\n",
       "      <td>WRITE</td>\n",
       "      <td>{'mode': 'Overwrite', 'partitionBy': '[]'}</td>\n",
       "      <td>None</td>\n",
       "      <td>None</td>\n",
       "      <td>None</td>\n",
       "      <td>1.0</td>\n",
       "      <td>Serializable</td>\n",
       "      <td>False</td>\n",
       "      <td>{'numOutputRows': '1', 'numOutputBytes': '2076...</td>\n",
       "      <td>None</td>\n",
       "      <td>Apache-Spark/3.5.4 Delta-Lake/3.1.0</td>\n",
       "    </tr>\n",
       "    <tr>\n",
       "      <th>9</th>\n",
       "      <td>1</td>\n",
       "      <td>2025-02-13 05:15:20.309</td>\n",
       "      <td>None</td>\n",
       "      <td>None</td>\n",
       "      <td>WRITE</td>\n",
       "      <td>{'mode': 'Overwrite', 'partitionBy': '[]'}</td>\n",
       "      <td>None</td>\n",
       "      <td>None</td>\n",
       "      <td>None</td>\n",
       "      <td>0.0</td>\n",
       "      <td>Serializable</td>\n",
       "      <td>False</td>\n",
       "      <td>{'numOutputRows': '1', 'numOutputBytes': '2076...</td>\n",
       "      <td>None</td>\n",
       "      <td>Apache-Spark/3.5.4 Delta-Lake/3.1.0</td>\n",
       "    </tr>\n",
       "    <tr>\n",
       "      <th>10</th>\n",
       "      <td>0</td>\n",
       "      <td>2025-02-13 05:13:55.482</td>\n",
       "      <td>None</td>\n",
       "      <td>None</td>\n",
       "      <td>WRITE</td>\n",
       "      <td>{'mode': 'Overwrite', 'partitionBy': '[]'}</td>\n",
       "      <td>None</td>\n",
       "      <td>None</td>\n",
       "      <td>None</td>\n",
       "      <td>NaN</td>\n",
       "      <td>Serializable</td>\n",
       "      <td>False</td>\n",
       "      <td>{'numOutputRows': '1', 'numOutputBytes': '2076...</td>\n",
       "      <td>None</td>\n",
       "      <td>Apache-Spark/3.5.4 Delta-Lake/3.1.0</td>\n",
       "    </tr>\n",
       "  </tbody>\n",
       "</table>\n",
       "</div>"
      ],
      "text/plain": [
       "    version               timestamp userId userName operation  \\\n",
       "0        10 2025-02-13 17:51:41.670   None     None     WRITE   \n",
       "1         9 2025-02-13 17:51:40.706   None     None     WRITE   \n",
       "2         8 2025-02-13 17:16:44.839   None     None     WRITE   \n",
       "3         7 2025-02-13 17:16:43.990   None     None     WRITE   \n",
       "4         6 2025-02-13 17:01:04.787   None     None     WRITE   \n",
       "5         5 2025-02-13 17:01:03.937   None     None     WRITE   \n",
       "6         4 2025-02-13 17:00:34.811   None     None     WRITE   \n",
       "7         3 2025-02-13 17:00:33.899   None     None     WRITE   \n",
       "8         2 2025-02-13 16:59:30.985   None     None     WRITE   \n",
       "9         1 2025-02-13 05:15:20.309   None     None     WRITE   \n",
       "10        0 2025-02-13 05:13:55.482   None     None     WRITE   \n",
       "\n",
       "                           operationParameters   job notebook clusterId  \\\n",
       "0   {'mode': 'Overwrite', 'partitionBy': '[]'}  None     None      None   \n",
       "1   {'mode': 'Overwrite', 'partitionBy': '[]'}  None     None      None   \n",
       "2   {'mode': 'Overwrite', 'partitionBy': '[]'}  None     None      None   \n",
       "3   {'mode': 'Overwrite', 'partitionBy': '[]'}  None     None      None   \n",
       "4   {'mode': 'Overwrite', 'partitionBy': '[]'}  None     None      None   \n",
       "5   {'mode': 'Overwrite', 'partitionBy': '[]'}  None     None      None   \n",
       "6   {'mode': 'Overwrite', 'partitionBy': '[]'}  None     None      None   \n",
       "7   {'mode': 'Overwrite', 'partitionBy': '[]'}  None     None      None   \n",
       "8   {'mode': 'Overwrite', 'partitionBy': '[]'}  None     None      None   \n",
       "9   {'mode': 'Overwrite', 'partitionBy': '[]'}  None     None      None   \n",
       "10  {'mode': 'Overwrite', 'partitionBy': '[]'}  None     None      None   \n",
       "\n",
       "    readVersion isolationLevel  isBlindAppend  \\\n",
       "0           9.0   Serializable          False   \n",
       "1           8.0   Serializable          False   \n",
       "2           7.0   Serializable          False   \n",
       "3           6.0   Serializable          False   \n",
       "4           5.0   Serializable          False   \n",
       "5           4.0   Serializable          False   \n",
       "6           3.0   Serializable          False   \n",
       "7           2.0   Serializable          False   \n",
       "8           1.0   Serializable          False   \n",
       "9           0.0   Serializable          False   \n",
       "10          NaN   Serializable          False   \n",
       "\n",
       "                                     operationMetrics userMetadata  \\\n",
       "0   {'numOutputRows': '1', 'numOutputBytes': '2076...         None   \n",
       "1   {'numOutputRows': '1', 'numOutputBytes': '2076...         None   \n",
       "2   {'numOutputRows': '1', 'numOutputBytes': '2076...         None   \n",
       "3   {'numOutputRows': '1', 'numOutputBytes': '2076...         None   \n",
       "4   {'numOutputRows': '1', 'numOutputBytes': '2076...         None   \n",
       "5   {'numOutputRows': '1', 'numOutputBytes': '2076...         None   \n",
       "6   {'numOutputRows': '1', 'numOutputBytes': '2076...         None   \n",
       "7   {'numOutputRows': '1', 'numOutputBytes': '2076...         None   \n",
       "8   {'numOutputRows': '1', 'numOutputBytes': '2076...         None   \n",
       "9   {'numOutputRows': '1', 'numOutputBytes': '2076...         None   \n",
       "10  {'numOutputRows': '1', 'numOutputBytes': '2076...         None   \n",
       "\n",
       "                             engineInfo  \n",
       "0   Apache-Spark/3.5.4 Delta-Lake/3.1.0  \n",
       "1   Apache-Spark/3.5.4 Delta-Lake/3.1.0  \n",
       "2   Apache-Spark/3.5.4 Delta-Lake/3.1.0  \n",
       "3   Apache-Spark/3.5.4 Delta-Lake/3.1.0  \n",
       "4   Apache-Spark/3.5.4 Delta-Lake/3.1.0  \n",
       "5   Apache-Spark/3.5.4 Delta-Lake/3.1.0  \n",
       "6   Apache-Spark/3.5.4 Delta-Lake/3.1.0  \n",
       "7   Apache-Spark/3.5.4 Delta-Lake/3.1.0  \n",
       "8   Apache-Spark/3.5.4 Delta-Lake/3.1.0  \n",
       "9   Apache-Spark/3.5.4 Delta-Lake/3.1.0  \n",
       "10  Apache-Spark/3.5.4 Delta-Lake/3.1.0  "
      ]
     },
     "execution_count": 13,
     "metadata": {},
     "output_type": "execute_result"
    }
   ],
   "source": [
    "from IPython.display import display, HTML\n",
    "from delta.tables import DeltaTable\n",
    "import pandas as pd\n",
    "\n",
    "delta_table = DeltaTable.forPath(spark, \"spark\")\n",
    "\n",
    "history_df = delta_table.history()\n",
    "\n",
    "history_df.toPandas()"
   ]
  },
  {
   "cell_type": "code",
   "execution_count": null,
   "id": "ad6e6dc3-87a0-42de-a6aa-e8ba70f7ca43",
   "metadata": {},
   "outputs": [],
   "source": []
  },
  {
   "cell_type": "code",
   "execution_count": null,
   "id": "0549196a-e97b-444e-9a4c-edcebfdf16ca",
   "metadata": {},
   "outputs": [],
   "source": []
  },
  {
   "cell_type": "code",
   "execution_count": null,
   "id": "a6ca35a0-7c76-4c24-9b5a-e201a3bc9a2d",
   "metadata": {},
   "outputs": [],
   "source": []
  },
  {
   "cell_type": "code",
   "execution_count": null,
   "id": "145e09f8-170b-45c2-a5ae-8f358ebbb31f",
   "metadata": {},
   "outputs": [],
   "source": []
  },
  {
   "cell_type": "code",
   "execution_count": null,
   "id": "a5882050-fcf4-4880-aba4-7685e6cc76c8",
   "metadata": {},
   "outputs": [],
   "source": []
  },
  {
   "cell_type": "code",
   "execution_count": null,
   "id": "41a499ef-880a-4256-8112-1aa52b478e1c",
   "metadata": {},
   "outputs": [],
   "source": []
  },
  {
   "cell_type": "code",
   "execution_count": null,
   "id": "cff35c5c-f312-4176-9af4-a00b0202ca0e",
   "metadata": {},
   "outputs": [],
   "source": []
  }
 ],
 "metadata": {
  "kernelspec": {
   "display_name": "Python 3 (ipykernel)",
   "language": "python",
   "name": "python3"
  },
  "language_info": {
   "codemirror_mode": {
    "name": "ipython",
    "version": 3
   },
   "file_extension": ".py",
   "mimetype": "text/x-python",
   "name": "python",
   "nbconvert_exporter": "python",
   "pygments_lexer": "ipython3",
   "version": "3.11.4"
  }
 },
 "nbformat": 4,
 "nbformat_minor": 5
}
