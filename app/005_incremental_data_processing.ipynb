{
 "cells": [
  {
   "cell_type": "markdown",
   "id": "61bc965f-671e-4c85-9cbb-af6a1d1f4fc4",
   "metadata": {},
   "source": [
    "Read in a single file and make duplicates"
   ]
  },
  {
   "cell_type": "code",
   "execution_count": 5,
   "id": "a14cd853-a6a6-4c44-9b82-7065b4d3a80a",
   "metadata": {},
   "outputs": [],
   "source": [
    "import pyspark\n",
    "from delta import *\n",
    "from pyspark.sql import SparkSession\n",
    "import pyspark.sql.functions as F\n",
    "from pyspark.sql.window import Window\n",
    "import json\n",
    "spark = (pyspark.sql.SparkSession.builder.appName(\"MyApp\").master(\"local[*]\")\n",
    "    .config(\"spark.jars.packages\", \"io.delta:delta-spark_2.12:3.1.0\")\n",
    "    .config(\"spark.sql.extensions\", \"io.delta.sql.DeltaSparkSessionExtension\")\n",
    "    .config(\"spark.sql.catalog.spark_catalog\", \"org.apache.spark.sql.delta.catalog.DeltaCatalog\")\n",
    "    .config(\"spark.delta.logStore.class\", \"org.apache.spark.sql.delta.storage.S3SingleDriverLogStore\")\n",
    ".getOrCreate())\n",
    "spark.sparkContext.setLogLevel('ERROR')"
   ]
  },
  {
   "cell_type": "code",
   "execution_count": 6,
   "id": "2d35f2eb-d8c4-42d4-b1e9-9e22aa4b1973",
   "metadata": {},
   "outputs": [
    {
     "name": "stdout",
     "output_type": "stream",
     "text": [
      "+---+----+----------------+------+\n",
      "|age|  id|        metadata|  name|\n",
      "+---+----+----------------+------+\n",
      "| 37|2111|[[a, 1], [b, 2]]|OLIVIA|\n",
      "+---+----+----------------+------+\n",
      "\n"
     ]
    }
   ],
   "source": [
    "df_array = [\"\"\"{\"id\": \"2111\", \"name\": \"OLIVIA\", \"age\": \"37\", \"metadata\":[[\"a\",1], [\"b\",2]]}\"\"\"]\n",
    "df_array = spark.sparkContext.parallelize(df_array)\n",
    "df_array = spark.read.json(df_array)\n",
    "df_array.show()"
   ]
  },
  {
   "cell_type": "code",
   "execution_count": 14,
   "id": "03969fa5-5a27-4b84-958d-e8ae8a3233f5",
   "metadata": {},
   "outputs": [],
   "source": [
    "df_array.write.format(\"delta\").mode(\"overwrite\").save(\"spark\")"
   ]
  },
  {
   "cell_type": "code",
   "execution_count": 18,
   "id": "b73d75ae-43f0-4767-b609-86a8d9b1d8f5",
   "metadata": {},
   "outputs": [
    {
     "name": "stdout",
     "output_type": "stream",
     "text": [
      "+---+----+----------------+------+\n",
      "|age|  id|        metadata|  name|\n",
      "+---+----+----------------+------+\n",
      "| 37|2111|[[a, 1], [b, 2]]|OLIVIA|\n",
      "+---+----+----------------+------+\n",
      "\n"
     ]
    }
   ],
   "source": [
    "spark.read.format(\"delta\").load(\"spark\").show()"
   ]
  },
  {
   "cell_type": "code",
   "execution_count": null,
   "id": "f012b147-6dc1-47e5-b48f-db07d62fb439",
   "metadata": {},
   "outputs": [],
   "source": []
  },
  {
   "cell_type": "code",
   "execution_count": null,
   "id": "0479e91e-8953-4606-8ecb-af3617d401e6",
   "metadata": {},
   "outputs": [],
   "source": []
  },
  {
   "cell_type": "code",
   "execution_count": null,
   "id": "b833ed2c-3811-4268-93c8-bc43328f4694",
   "metadata": {},
   "outputs": [],
   "source": []
  },
  {
   "cell_type": "code",
   "execution_count": null,
   "id": "cb43a729-9830-4106-b068-660d43bbd8ab",
   "metadata": {},
   "outputs": [],
   "source": []
  },
  {
   "cell_type": "code",
   "execution_count": null,
   "id": "814e27e8-5500-43cc-bda1-5736b1dc7566",
   "metadata": {},
   "outputs": [],
   "source": []
  },
  {
   "cell_type": "code",
   "execution_count": null,
   "id": "ad6e6dc3-87a0-42de-a6aa-e8ba70f7ca43",
   "metadata": {},
   "outputs": [],
   "source": []
  }
 ],
 "metadata": {
  "kernelspec": {
   "display_name": "Python 3 (ipykernel)",
   "language": "python",
   "name": "python3"
  },
  "language_info": {
   "codemirror_mode": {
    "name": "ipython",
    "version": 3
   },
   "file_extension": ".py",
   "mimetype": "text/x-python",
   "name": "python",
   "nbconvert_exporter": "python",
   "pygments_lexer": "ipython3",
   "version": "3.11.4"
  }
 },
 "nbformat": 4,
 "nbformat_minor": 5
}
