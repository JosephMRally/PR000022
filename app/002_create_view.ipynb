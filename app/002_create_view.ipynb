{
 "cells": [
  {
   "cell_type": "code",
   "execution_count": 1,
   "id": "3688c252-f725-48dd-a698-b62940bacddb",
   "metadata": {},
   "outputs": [
    {
     "name": "stderr",
     "output_type": "stream",
     "text": [
      "Setting default log level to \"WARN\".\n",
      "To adjust logging level use sc.setLogLevel(newLevel). For SparkR, use setLogLevel(newLevel).\n",
      "25/02/12 16:18:48 WARN NativeCodeLoader: Unable to load native-hadoop library for your platform... using builtin-java classes where applicable\n",
      "25/02/12 16:18:48 WARN Utils: Service 'SparkUI' could not bind on port 4040. Attempting port 4041.\n",
      "25/02/12 16:18:48 WARN Utils: Service 'SparkUI' could not bind on port 4041. Attempting port 4042.\n"
     ]
    }
   ],
   "source": [
    "import pyspark\n",
    "from delta import *\n",
    "from pyspark.sql import SparkSession\n",
    "import pyspark.sql.functions as f\n",
    "spark = (SparkSession.builder.appName(\"SparkSample\").getOrCreate())\n",
    "spark.sparkContext.setLogLevel('ERROR')"
   ]
  },
  {
   "cell_type": "markdown",
   "id": "61bc965f-671e-4c85-9cbb-af6a1d1f4fc4",
   "metadata": {},
   "source": [
    "Read in a single file"
   ]
  },
  {
   "cell_type": "code",
   "execution_count": 2,
   "id": "6a696ef4-4297-403f-96df-50b065f80c39",
   "metadata": {},
   "outputs": [],
   "source": [
    "df = spark.read.text(\"textfile.txt\")"
   ]
  },
  {
   "cell_type": "markdown",
   "id": "8a45a470-d651-47e1-b00c-573563cfe4c4",
   "metadata": {},
   "source": [
    "# create a temporary view in spark"
   ]
  },
  {
   "cell_type": "code",
   "execution_count": 3,
   "id": "6207112b-7cfd-4acf-8827-80595d0cf8ea",
   "metadata": {},
   "outputs": [],
   "source": [
    "df.createOrReplaceTempView(\"vw_temp_view\")"
   ]
  },
  {
   "cell_type": "code",
   "execution_count": 4,
   "id": "ac298472-598f-4ea3-ac0b-96bd6b9832d5",
   "metadata": {},
   "outputs": [
    {
     "name": "stdout",
     "output_type": "stream",
     "text": [
      "+--------------------+\n",
      "|               value|\n",
      "+--------------------+\n",
      "|Disclaimer: While...|\n",
      "|                    |\n",
      "+--------------------+\n",
      "only showing top 2 rows\n",
      "\n"
     ]
    }
   ],
   "source": [
    "spark.sql(\"select * from vw_temp_view\").show(2)"
   ]
  },
  {
   "cell_type": "markdown",
   "id": "1e2a19a9-74cc-45f1-8949-ecfbca125b6b",
   "metadata": {},
   "source": [
    "# create a view using SQL that will persist"
   ]
  },
  {
   "cell_type": "code",
   "execution_count": 5,
   "id": "e95aaac3-0f2b-4564-8ca6-478416d043aa",
   "metadata": {},
   "outputs": [
    {
     "data": {
      "text/plain": [
       "DataFrame[]"
      ]
     },
     "execution_count": 5,
     "metadata": {},
     "output_type": "execute_result"
    }
   ],
   "source": [
    "spark.sql(\"drop table if exists tbl_view\")"
   ]
  },
  {
   "cell_type": "code",
   "execution_count": 6,
   "id": "e8f85ef8-4dae-4459-899d-408cfc5ea822",
   "metadata": {},
   "outputs": [
    {
     "name": "stderr",
     "output_type": "stream",
     "text": [
      "chgrp: changing ownership of 'file:///user/hive/warehouse/tbl_view': chown: changing group of '/user/hive/warehouse/tbl_view': Operation not permitted\n"
     ]
    },
    {
     "data": {
      "text/plain": [
       "DataFrame[]"
      ]
     },
     "execution_count": 6,
     "metadata": {},
     "output_type": "execute_result"
    }
   ],
   "source": [
    "spark.sql(\"\"\"create table tbl_view as select * from vw_temp_view\"\"\")"
   ]
  },
  {
   "cell_type": "code",
   "execution_count": 7,
   "id": "e7381c86-cabb-4839-a052-3707c0fb9ce1",
   "metadata": {},
   "outputs": [
    {
     "data": {
      "text/plain": [
       "DataFrame[]"
      ]
     },
     "execution_count": 7,
     "metadata": {},
     "output_type": "execute_result"
    }
   ],
   "source": [
    "spark.sql(\"drop view if exists vw_view\")"
   ]
  },
  {
   "cell_type": "code",
   "execution_count": 8,
   "id": "83eb41d4-a863-4739-8868-d8d9b8fd711b",
   "metadata": {},
   "outputs": [
    {
     "data": {
      "text/plain": [
       "DataFrame[]"
      ]
     },
     "execution_count": 8,
     "metadata": {},
     "output_type": "execute_result"
    }
   ],
   "source": [
    "spark.sql(\"\"\"create view vw_view as select * from tbl_view\"\"\")"
   ]
  },
  {
   "cell_type": "markdown",
   "id": "86fe3061-114a-462f-8a4e-cea4b45ec1af",
   "metadata": {},
   "source": [
    "# CTE (Common Table Expression) is a better way to write complex queries"
   ]
  },
  {
   "cell_type": "code",
   "execution_count": 9,
   "id": "038cbe97-de32-40e3-b95f-3c646aaabfe3",
   "metadata": {},
   "outputs": [
    {
     "name": "stdout",
     "output_type": "stream",
     "text": [
      "+--------------------+\n",
      "|               value|\n",
      "+--------------------+\n",
      "|Disclaimer: While...|\n",
      "|                    |\n",
      "+--------------------+\n",
      "only showing top 2 rows\n",
      "\n"
     ]
    }
   ],
   "source": [
    "spark.sql(\"\"\"with cte_one as (\n",
    "    select * from vw_view\n",
    "    )\n",
    "    select * from cte_one\"\"\").show(2)"
   ]
  },
  {
   "cell_type": "markdown",
   "id": "eca2c931-e7cf-4f2b-bfde-9f559bef7d71",
   "metadata": {},
   "source": [
    "# metadata of the table"
   ]
  },
  {
   "cell_type": "code",
   "execution_count": 10,
   "id": "185272e2-71db-4838-bf06-ff8cb4a283d0",
   "metadata": {},
   "outputs": [
    {
     "name": "stdout",
     "output_type": "stream",
     "text": [
      "+----------------------------+----------------------------------------------------------+-------+\n",
      "|col_name                    |data_type                                                 |comment|\n",
      "+----------------------------+----------------------------------------------------------+-------+\n",
      "|value                       |string                                                    |NULL   |\n",
      "|                            |                                                          |       |\n",
      "|# Detailed Table Information|                                                          |       |\n",
      "|Catalog                     |spark_catalog                                             |       |\n",
      "|Database                    |default                                                   |       |\n",
      "|Table                       |tbl_view                                                  |       |\n",
      "|Owner                       |sparkuser                                                 |       |\n",
      "|Created Time                |Wed Feb 12 16:18:51 UTC 2025                              |       |\n",
      "|Last Access                 |UNKNOWN                                                   |       |\n",
      "|Created By                  |Spark 3.5.4                                               |       |\n",
      "|Type                        |MANAGED                                                   |       |\n",
      "|Provider                    |hive                                                      |       |\n",
      "|Table Properties            |[transient_lastDdlTime=1739377131]                        |       |\n",
      "|Statistics                  |2866 bytes                                                |       |\n",
      "|Location                    |file:/user/hive/warehouse/tbl_view                        |       |\n",
      "|Serde Library               |org.apache.hadoop.hive.serde2.lazy.LazySimpleSerDe        |       |\n",
      "|InputFormat                 |org.apache.hadoop.mapred.TextInputFormat                  |       |\n",
      "|OutputFormat                |org.apache.hadoop.hive.ql.io.HiveIgnoreKeyTextOutputFormat|       |\n",
      "|Storage Properties          |[serialization.format=1]                                  |       |\n",
      "|Partition Provider          |Catalog                                                   |       |\n",
      "+----------------------------+----------------------------------------------------------+-------+\n",
      "\n"
     ]
    }
   ],
   "source": [
    "spark.sql(\"DESCRIBE FORMATTED tbl_view\").show(truncate=False)"
   ]
  },
  {
   "cell_type": "code",
   "execution_count": null,
   "id": "ca087530-9d3b-44c8-8aed-7e4ab96723a5",
   "metadata": {},
   "outputs": [],
   "source": []
  }
 ],
 "metadata": {
  "kernelspec": {
   "display_name": "Python 3 (ipykernel)",
   "language": "python",
   "name": "python3"
  },
  "language_info": {
   "codemirror_mode": {
    "name": "ipython",
    "version": 3
   },
   "file_extension": ".py",
   "mimetype": "text/x-python",
   "name": "python",
   "nbconvert_exporter": "python",
   "pygments_lexer": "ipython3",
   "version": "3.11.4"
  }
 },
 "nbformat": 4,
 "nbformat_minor": 5
}
