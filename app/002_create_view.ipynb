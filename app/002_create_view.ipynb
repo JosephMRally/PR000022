{
 "cells": [
  {
   "cell_type": "code",
   "execution_count": 2,
   "id": "3688c252-f725-48dd-a698-b62940bacddb",
   "metadata": {},
   "outputs": [
    {
     "name": "stderr",
     "output_type": "stream",
     "text": [
      "Setting default log level to \"WARN\".\n",
      "To adjust logging level use sc.setLogLevel(newLevel). For SparkR, use setLogLevel(newLevel).\n",
      "25/02/12 01:50:07 WARN NativeCodeLoader: Unable to load native-hadoop library for your platform... using builtin-java classes where applicable\n",
      "25/02/12 01:50:07 WARN Utils: Service 'SparkUI' could not bind on port 4040. Attempting port 4041.\n",
      "25/02/12 01:50:07 WARN Utils: Service 'SparkUI' could not bind on port 4041. Attempting port 4042.\n"
     ]
    }
   ],
   "source": [
    "import pyspark\n",
    "from delta import *\n",
    "from pyspark.sql import SparkSession\n",
    "import pyspark.sql.functions as f\n",
    "spark = (SparkSession.builder.appName(\"SparkSample\").getOrCreate())"
   ]
  },
  {
   "cell_type": "markdown",
   "id": "61bc965f-671e-4c85-9cbb-af6a1d1f4fc4",
   "metadata": {},
   "source": [
    "Read in a single file"
   ]
  },
  {
   "cell_type": "code",
   "execution_count": 3,
   "id": "6a696ef4-4297-403f-96df-50b065f80c39",
   "metadata": {},
   "outputs": [],
   "source": [
    "df = spark.read.text(\"textfile.txt\")"
   ]
  },
  {
   "cell_type": "markdown",
   "id": "8a45a470-d651-47e1-b00c-573563cfe4c4",
   "metadata": {},
   "source": [
    "create a temporary view in spark"
   ]
  },
  {
   "cell_type": "code",
   "execution_count": 14,
   "id": "6207112b-7cfd-4acf-8827-80595d0cf8ea",
   "metadata": {},
   "outputs": [],
   "source": [
    "df.createOrReplaceTempView(\"vw_temp_view\")"
   ]
  },
  {
   "cell_type": "code",
   "execution_count": 18,
   "id": "ac298472-598f-4ea3-ac0b-96bd6b9832d5",
   "metadata": {},
   "outputs": [
    {
     "name": "stdout",
     "output_type": "stream",
     "text": [
      "+--------------------+\n",
      "|               value|\n",
      "+--------------------+\n",
      "|Disclaimer: While...|\n",
      "|                    |\n",
      "+--------------------+\n",
      "only showing top 2 rows\n",
      "\n"
     ]
    }
   ],
   "source": [
    "spark.sql(\"select * from vw_temp_view\").show(2)"
   ]
  },
  {
   "cell_type": "markdown",
   "id": "1e2a19a9-74cc-45f1-8949-ecfbca125b6b",
   "metadata": {},
   "source": [
    "create a view using SQL that will persist"
   ]
  },
  {
   "cell_type": "code",
   "execution_count": 21,
   "id": "e8f85ef8-4dae-4459-899d-408cfc5ea822",
   "metadata": {},
   "outputs": [
    {
     "name": "stderr",
     "output_type": "stream",
     "text": [
      "25/02/12 01:59:42 WARN ResolveSessionCatalog: A Hive serde table will be created as there is no table provider specified. You can set spark.sql.legacy.createHiveTableByDefault to false so that native data source table will be created instead.\n",
      "25/02/12 01:59:42 WARN SessionState: METASTORE_FILTER_HOOK will be ignored, since hive.security.authorization.manager is set to instance of HiveAuthorizerFactory.\n",
      "25/02/12 01:59:42 WARN HiveConf: HiveConf of name hive.internal.ss.authz.settings.applied.marker does not exist\n",
      "25/02/12 01:59:42 WARN HiveConf: HiveConf of name hive.stats.jdbc.timeout does not exist\n",
      "25/02/12 01:59:42 WARN HiveConf: HiveConf of name hive.stats.retries.wait does not exist\n",
      "25/02/12 01:59:42 WARN HiveMetaStore: Location: file:/user/hive/warehouse/tbl_view specified for non-external table:tbl_view\n",
      "chgrp: changing ownership of 'file:///user/hive/warehouse/tbl_view': chown: changing group of '/user/hive/warehouse/tbl_view': Operation not permitted\n"
     ]
    },
    {
     "data": {
      "text/plain": [
       "DataFrame[]"
      ]
     },
     "execution_count": 21,
     "metadata": {},
     "output_type": "execute_result"
    }
   ],
   "source": [
    "spark.sql(\"\"\"create table tbl_view as select * from vw_temp_view\"\"\")"
   ]
  },
  {
   "cell_type": "code",
   "execution_count": 22,
   "id": "83eb41d4-a863-4739-8868-d8d9b8fd711b",
   "metadata": {},
   "outputs": [
    {
     "name": "stderr",
     "output_type": "stream",
     "text": [
      "25/02/12 02:00:13 WARN ResolveSessionCatalog: A Hive serde table will be created as there is no table provider specified. You can set spark.sql.legacy.createHiveTableByDefault to false so that native data source table will be created instead.\n",
      "25/02/12 02:00:13 WARN HiveMetaStore: Location: file:/user/hive/warehouse/vw_view specified for non-external table:vw_view\n",
      "chgrp: changing ownership of 'file:///user/hive/warehouse/vw_view': chown: changing group of '/user/hive/warehouse/vw_view': Operation not permitted\n"
     ]
    },
    {
     "data": {
      "text/plain": [
       "DataFrame[]"
      ]
     },
     "execution_count": 22,
     "metadata": {},
     "output_type": "execute_result"
    }
   ],
   "source": [
    "spark.sql(\"\"\"create table vw_view as select * from tbl_view\"\"\")"
   ]
  },
  {
   "cell_type": "markdown",
   "id": "86fe3061-114a-462f-8a4e-cea4b45ec1af",
   "metadata": {},
   "source": [
    "CTE (Common Table Expression) is just a fancy query"
   ]
  },
  {
   "cell_type": "code",
   "execution_count": 24,
   "id": "038cbe97-de32-40e3-b95f-3c646aaabfe3",
   "metadata": {},
   "outputs": [
    {
     "name": "stdout",
     "output_type": "stream",
     "text": [
      "+--------------------+\n",
      "|               value|\n",
      "+--------------------+\n",
      "|Disclaimer: While...|\n",
      "|                    |\n",
      "+--------------------+\n",
      "only showing top 2 rows\n",
      "\n"
     ]
    }
   ],
   "source": [
    "spark.sql(\"\"\"with cte_one as (\n",
    "    select * from vw_view\n",
    "    )\n",
    "    select * from cte_one\"\"\").show(2)"
   ]
  },
  {
   "cell_type": "code",
   "execution_count": 11,
   "id": "185272e2-71db-4838-bf06-ff8cb4a283d0",
   "metadata": {},
   "outputs": [
    {
     "name": "stdout",
     "output_type": "stream",
     "text": [
      "+----------------------------+----------------------------------------------------------+-------+\n",
      "|col_name                    |data_type                                                 |comment|\n",
      "+----------------------------+----------------------------------------------------------+-------+\n",
      "|value                       |string                                                    |NULL   |\n",
      "|                            |                                                          |       |\n",
      "|# Detailed Table Information|                                                          |       |\n",
      "|Catalog                     |spark_catalog                                             |       |\n",
      "|Database                    |default                                                   |       |\n",
      "|Table                       |tbl_view                                                  |       |\n",
      "|Owner                       |sparkuser                                                 |       |\n",
      "|Created Time                |Wed Feb 12 01:59:42 UTC 2025                              |       |\n",
      "|Last Access                 |UNKNOWN                                                   |       |\n",
      "|Created By                  |Spark 3.5.4                                               |       |\n",
      "|Type                        |MANAGED                                                   |       |\n",
      "|Provider                    |hive                                                      |       |\n",
      "|Table Properties            |[transient_lastDdlTime=1739325583]                        |       |\n",
      "|Statistics                  |2866 bytes                                                |       |\n",
      "|Location                    |file:/user/hive/warehouse/tbl_view                        |       |\n",
      "|Serde Library               |org.apache.hadoop.hive.serde2.lazy.LazySimpleSerDe        |       |\n",
      "|InputFormat                 |org.apache.hadoop.mapred.TextInputFormat                  |       |\n",
      "|OutputFormat                |org.apache.hadoop.hive.ql.io.HiveIgnoreKeyTextOutputFormat|       |\n",
      "|Storage Properties          |[serialization.format=1]                                  |       |\n",
      "|Partition Provider          |Catalog                                                   |       |\n",
      "+----------------------------+----------------------------------------------------------+-------+\n",
      "\n"
     ]
    }
   ],
   "source": [
    "spark.sql(\"DESCRIBE FORMATTED tbl_view\").show(truncate=False)"
   ]
  },
  {
   "cell_type": "code",
   "execution_count": null,
   "id": "ca087530-9d3b-44c8-8aed-7e4ab96723a5",
   "metadata": {},
   "outputs": [],
   "source": []
  }
 ],
 "metadata": {
  "kernelspec": {
   "display_name": "Python 3 (ipykernel)",
   "language": "python",
   "name": "python3"
  },
  "language_info": {
   "codemirror_mode": {
    "name": "ipython",
    "version": 3
   },
   "file_extension": ".py",
   "mimetype": "text/x-python",
   "name": "python",
   "nbconvert_exporter": "python",
   "pygments_lexer": "ipython3",
   "version": "3.11.4"
  }
 },
 "nbformat": 4,
 "nbformat_minor": 5
}
