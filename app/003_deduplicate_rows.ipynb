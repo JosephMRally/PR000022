{
 "cells": [
  {
   "cell_type": "code",
   "execution_count": 1,
   "id": "3688c252-f725-48dd-a698-b62940bacddb",
   "metadata": {},
   "outputs": [
    {
     "name": "stderr",
     "output_type": "stream",
     "text": [
      "Setting default log level to \"WARN\".\n",
      "To adjust logging level use sc.setLogLevel(newLevel). For SparkR, use setLogLevel(newLevel).\n",
      "25/02/12 16:17:11 WARN NativeCodeLoader: Unable to load native-hadoop library for your platform... using builtin-java classes where applicable\n"
     ]
    }
   ],
   "source": [
    "import pyspark\n",
    "from delta import *\n",
    "from pyspark.sql import SparkSession\n",
    "import pyspark.sql.functions as F\n",
    "from pyspark.sql.window import Window\n",
    "spark = (SparkSession.builder.appName(\"SparkSample\").getOrCreate())\n",
    "spark.sparkContext.setLogLevel('ERROR')"
   ]
  },
  {
   "cell_type": "markdown",
   "id": "61bc965f-671e-4c85-9cbb-af6a1d1f4fc4",
   "metadata": {},
   "source": [
    "Read in a single file and make duplicates"
   ]
  },
  {
   "cell_type": "code",
   "execution_count": 2,
   "id": "ca087530-9d3b-44c8-8aed-7e4ab96723a5",
   "metadata": {},
   "outputs": [],
   "source": [
    "window = Window.orderBy(\"value\")"
   ]
  },
  {
   "cell_type": "code",
   "execution_count": 3,
   "id": "6a696ef4-4297-403f-96df-50b065f80c39",
   "metadata": {},
   "outputs": [
    {
     "name": "stdout",
     "output_type": "stream",
     "text": [
      "+-----+---+\n",
      "|value| rn|\n",
      "+-----+---+\n",
      "|     |  1|\n",
      "|     |  1|\n",
      "|     |  2|\n",
      "|     |  2|\n",
      "|     |  3|\n",
      "|     |  3|\n",
      "|     |  4|\n",
      "|     |  4|\n",
      "|     |  5|\n",
      "|     |  5|\n",
      "+-----+---+\n",
      "only showing top 10 rows\n",
      "\n"
     ]
    }
   ],
   "source": [
    "df_1 = (spark.read.text(\"textfile.txt\")\n",
    "        .withColumn(\"rn\", F.row_number().over(window))\n",
    "     )\n",
    "df = df_1.unionAll(df_1).orderBy(F.col(\"rn\"))\n",
    "df.show(10)"
   ]
  },
  {
   "cell_type": "markdown",
   "id": "11c81bf8-01e1-4745-acf2-2d0a6db55263",
   "metadata": {},
   "source": [
    "# method #1 - distinct"
   ]
  },
  {
   "cell_type": "code",
   "execution_count": 4,
   "id": "3fd95933-1812-4c6d-a6f5-54e66983866b",
   "metadata": {},
   "outputs": [
    {
     "name": "stdout",
     "output_type": "stream",
     "text": [
      "+--------------------+---+\n",
      "|               value| rn|\n",
      "+--------------------+---+\n",
      "|                    | 11|\n",
      "|A Tale of Woe and...| 12|\n",
      "|At last, she foun...| 13|\n",
      "|Disclaimer: While...| 14|\n",
      "|Elara, though fri...| 15|\n",
      "|Finally, Elara re...| 16|\n",
      "|In the days of yo...| 17|\n",
      "|Note: This is jus...| 18|\n",
      "|One fateful morn,...| 19|\n",
      "|Prompt: Generate ...| 20|\n",
      "+--------------------+---+\n",
      "only showing top 10 rows\n",
      "\n"
     ]
    }
   ],
   "source": [
    "df.where(F.col(\"rn\")>10).distinct().orderBy(\"rn\").show(10)"
   ]
  },
  {
   "cell_type": "markdown",
   "id": "73e59c59-c1d2-4fb2-a50e-9712ff403f85",
   "metadata": {},
   "source": [
    "# method 2 - group by"
   ]
  },
  {
   "cell_type": "code",
   "execution_count": 5,
   "id": "f229bf73-7f3c-43fb-afdb-d95903ffb43c",
   "metadata": {},
   "outputs": [
    {
     "name": "stdout",
     "output_type": "stream",
     "text": [
      "+--------------------+---+--------------------+\n",
      "|               value| rn|        first(value)|\n",
      "+--------------------+---+--------------------+\n",
      "|                    | 11|                    |\n",
      "|A Tale of Woe and...| 12|A Tale of Woe and...|\n",
      "|At last, she foun...| 13|At last, she foun...|\n",
      "|Disclaimer: While...| 14|Disclaimer: While...|\n",
      "|Elara, though fri...| 15|Elara, though fri...|\n",
      "|Finally, Elara re...| 16|Finally, Elara re...|\n",
      "|In the days of yo...| 17|In the days of yo...|\n",
      "|Note: This is jus...| 18|Note: This is jus...|\n",
      "|One fateful morn,...| 19|One fateful morn,...|\n",
      "|Prompt: Generate ...| 20|Prompt: Generate ...|\n",
      "|           Response:| 21|           Response:|\n",
      "|The kingdom was s...| 22|The kingdom was s...|\n",
      "|With the sword in...| 23|With the sword in...|\n",
      "+--------------------+---+--------------------+\n",
      "\n"
     ]
    }
   ],
   "source": [
    "df.where(F.col(\"rn\")>10).groupby(\"value\", \"rn\").agg(F.first(\"value\")).show(20)"
   ]
  },
  {
   "cell_type": "markdown",
   "id": "75bc4573-8583-44a5-80b8-0ad79958c0f4",
   "metadata": {},
   "source": [
    "# method 3 - window"
   ]
  },
  {
   "cell_type": "markdown",
   "id": "2cd75794-ad71-45ef-9201-46d6c75d351d",
   "metadata": {},
   "source": [
    "dedup by specific fields"
   ]
  },
  {
   "cell_type": "code",
   "execution_count": 6,
   "id": "48145c5f-2fa6-4ac2-9fc6-d94f40b1f279",
   "metadata": {},
   "outputs": [
    {
     "name": "stdout",
     "output_type": "stream",
     "text": [
      "+--------------------+---+---+\n",
      "|               value| rn|_rn|\n",
      "+--------------------+---+---+\n",
      "|A Tale of Woe and...| 12|  1|\n",
      "|At last, she foun...| 13|  1|\n",
      "|Disclaimer: While...| 14|  1|\n",
      "|Elara, though fri...| 15|  1|\n",
      "|Finally, Elara re...| 16|  1|\n",
      "|In the days of yo...| 17|  1|\n",
      "|Note: This is jus...| 18|  1|\n",
      "|One fateful morn,...| 19|  1|\n",
      "|Prompt: Generate ...| 20|  1|\n",
      "|           Response:| 21|  1|\n",
      "|The kingdom was s...| 22|  1|\n",
      "|With the sword in...| 23|  1|\n",
      "+--------------------+---+---+\n",
      "\n"
     ]
    }
   ],
   "source": [
    "window = Window.partitionBy(\"value\").orderBy(\"rn\")\n",
    "(\n",
    "    df\n",
    "    .withColumn(\"_rn\", F.row_number().over(window))\n",
    "    .where(F.col(\"_rn\") == 1)\n",
    ").where(F.col(\"rn\")>10).show()"
   ]
  },
  {
   "cell_type": "markdown",
   "id": "e923ca5c-8b12-4a2c-a2c8-65bcee9df961",
   "metadata": {},
   "source": [
    "# method 4 - dropDuplicates"
   ]
  },
  {
   "cell_type": "code",
   "execution_count": 7,
   "id": "6a42aaf9-8c18-47b4-95ab-9e14fb3a01e5",
   "metadata": {},
   "outputs": [
    {
     "name": "stdout",
     "output_type": "stream",
     "text": [
      "+--------------------+---+\n",
      "|               value| rn|\n",
      "+--------------------+---+\n",
      "|A Tale of Woe and...| 12|\n",
      "|At last, she foun...| 13|\n",
      "|Disclaimer: While...| 14|\n",
      "|Elara, though fri...| 15|\n",
      "|Finally, Elara re...| 16|\n",
      "|In the days of yo...| 17|\n",
      "|Note: This is jus...| 18|\n",
      "|One fateful morn,...| 19|\n",
      "|Prompt: Generate ...| 20|\n",
      "|           Response:| 21|\n",
      "|The kingdom was s...| 22|\n",
      "|With the sword in...| 23|\n",
      "+--------------------+---+\n",
      "\n"
     ]
    }
   ],
   "source": [
    "df.dropDuplicates((\"value\",)).where(F.col(\"rn\")>10).orderBy(\"rn\").show()"
   ]
  },
  {
   "cell_type": "code",
   "execution_count": null,
   "id": "8e44bb99-d5c7-41ef-9a3f-6eafc8d36738",
   "metadata": {},
   "outputs": [],
   "source": []
  }
 ],
 "metadata": {
  "kernelspec": {
   "display_name": "Python 3 (ipykernel)",
   "language": "python",
   "name": "python3"
  },
  "language_info": {
   "codemirror_mode": {
    "name": "ipython",
    "version": 3
   },
   "file_extension": ".py",
   "mimetype": "text/x-python",
   "name": "python",
   "nbconvert_exporter": "python",
   "pygments_lexer": "ipython3",
   "version": "3.11.4"
  }
 },
 "nbformat": 4,
 "nbformat_minor": 5
}
