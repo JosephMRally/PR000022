{
 "cells": [
  {
   "cell_type": "code",
   "execution_count": null,
   "id": "19c5ed56-8604-422a-9e00-2bfbe173b3e0",
   "metadata": {},
   "outputs": [],
   "source": [
    "import org.apache.spark.streaming.StreamingContext._\n",
    "import org.apache.spark.streaming.{Seconds, StreamingContext}\n",
    "import org.apache.spark.{SparkConf, SparkContext}\n",
    "import org.apache.spark.sql.SQLContext\n",
    "import org.apache.spark.streaming.Duration\n",
    "import org.apache.spark.sql.functions.udf\n",
    "import org.apache.spark.sql.types\n",
    "import spark.implicits._"
   ]
  },
  {
   "cell_type": "code",
   "execution_count": null,
   "id": "062df5f6-487b-422f-a94a-b90c84ff672d",
   "metadata": {},
   "outputs": [],
   "source": [
    "!rm -r checkpoint\n"
   ]
  },
  {
   "cell_type": "code",
   "execution_count": null,
   "id": "3e122582-5a14-429d-94c6-8972f0afb4ea",
   "metadata": {},
   "outputs": [],
   "source": [
    "!mkdir checkpoint"
   ]
  },
  {
   "cell_type": "code",
   "execution_count": null,
   "id": "efc1a51f-20dc-4764-a5bc-f20643736645",
   "metadata": {},
   "outputs": [],
   "source": [
    "val schema = spark.read.json(\"input/*.json\").schema"
   ]
  },
  {
   "cell_type": "code",
   "execution_count": null,
   "id": "4629b152-de17-4e1f-8fee-6fbdc8b8527f",
   "metadata": {},
   "outputs": [],
   "source": [
    "val df = spark.readStream\n",
    "    .format(\"json\")\n",
    "    .schema(schema)\n",
    "    .option(\"multiLine\", \"false\")\n",
    "    .load(\"input/*.json\")\n",
    "    .select(\"*\", \"_metadata\")"
   ]
  },
  {
   "cell_type": "markdown",
   "id": "a41291cf-d98f-45d3-a6c7-8b996e632e5a",
   "metadata": {},
   "source": [
    "/*\n",
    "val df = spark.readStream\n",
    "    .format(\"json\")\n",
    "    .schema(schema)\n",
    "    .option(\"multiLine\", \"false\")\n",
    "    .option(\"cleanSource\", \"archive\")\n",
    "    .option(\"sourceArchiveDir\", f\"input_archive\")\n",
    "    .load(\"input/*.json\")\n",
    "    .select(\"*\", \"_metadata\")\n",
    "*/"
   ]
  },
  {
   "cell_type": "code",
   "execution_count": null,
   "id": "64316350-b2cf-4c7c-8078-1fd7653fdbcf",
   "metadata": {},
   "outputs": [],
   "source": [
    "val df2 = df.writeStream\n",
    "    .option(\"checkpointLocation\", \"checkpoint\")\n",
    "    .option(\"overwriteSchema\",true)\n",
    "    .trigger(org.apache.spark.sql.streaming.Trigger.ProcessingTime(\"1 second\"))\n",
    "    .toTable(\"houses\")"
   ]
  },
  {
   "cell_type": "code",
   "execution_count": null,
   "id": "bcf14f50-aeae-4b51-bea6-7dc12dd9c478",
   "metadata": {},
   "outputs": [],
   "source": [
    "df2.processAllAvailable\n",
    "//df2.stop\n",
    "df2.awaitTermination"
   ]
  },
  {
   "cell_type": "code",
   "execution_count": null,
   "id": "cae55818-fed4-46cc-acac-1b03464c2367",
   "metadata": {},
   "outputs": [],
   "source": [
    "val df3 = spark.read.format(\"jdbc\").table(\"houses\")"
   ]
  },
  {
   "cell_type": "code",
   "execution_count": null,
   "id": "07d28a16-a9f5-4aee-9a44-67fa91134b78",
   "metadata": {},
   "outputs": [],
   "source": [
    "df3.count"
   ]
  },
  {
   "cell_type": "code",
   "execution_count": null,
   "id": "7dabb9ed-6776-47ba-9eff-2f1756abad39",
   "metadata": {},
   "outputs": [],
   "source": [
    "df2.stop"
   ]
  },
  {
   "cell_type": "code",
   "execution_count": null,
   "id": "9ec3a2f9-e9aa-4de4-836a-8a61be1da12b",
   "metadata": {},
   "outputs": [],
   "source": [
    "df3.select(\"_metadata\").distinct.show(truncate=false)"
   ]
  },
  {
   "cell_type": "code",
   "execution_count": null,
   "id": "8a615f9c-11f8-4c93-ae38-9f1a47d40990",
   "metadata": {},
   "outputs": [],
   "source": [
    "\n",
    "val deltaTable = DeltaTable.forName(spark, \"data\")\n",
    "\n",
    "deltaTable.as(\"data\")\n",
    "  .merge(\n",
    "    people_10m_updates.as(\"people_10m_updates\"),\n",
    "    \"data.id = people_10m_updates.id\"\n",
    "  )\n",
    "  .whenMatched()\n",
    "  .updateAll()\n",
    "  .whenNotMatched()\n",
    "  .insertAll()\n",
    "  .execute()"
   ]
  },
  {
   "cell_type": "code",
   "execution_count": null,
   "id": "029fad6a-eed4-4a77-86e1-d66b0a6b0a79",
   "metadata": {},
   "outputs": [],
   "source": []
  }
 ],
 "metadata": {
  "kernelspec": {
   "display_name": "spylon-kernel",
   "language": "scala",
   "name": "spylon-kernel"
  },
  "language_info": {
   "codemirror_mode": "text/x-scala",
   "file_extension": ".scala",
   "help_links": [
    {
     "text": "MetaKernel Magics",
     "url": "https://metakernel.readthedocs.io/en/latest/source/README.html"
    }
   ],
   "mimetype": "text/x-scala",
   "name": "scala",
   "pygments_lexer": "scala",
   "version": "0.4.1"
  }
 },
 "nbformat": 4,
 "nbformat_minor": 5
}
