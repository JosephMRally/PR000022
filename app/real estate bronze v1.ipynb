{
 "cells": [
  {
   "cell_type": "code",
   "execution_count": 12,
   "id": "19c5ed56-8604-422a-9e00-2bfbe173b3e0",
   "metadata": {},
   "outputs": [
    {
     "data": {
      "text/plain": [
       "import org.apache.spark.streaming.StreamingContext._\n",
       "import org.apache.spark.streaming.{Seconds, StreamingContext}\n",
       "import org.apache.spark.{SparkConf, SparkContext}\n",
       "import org.apache.spark.sql.SQLContext\n",
       "import org.apache.spark.streaming.Duration\n",
       "import org.apache.spark.sql.functions.udf\n",
       "import org.apache.spark.sql.types\n",
       "import spark.implicits._\n"
      ]
     },
     "execution_count": 12,
     "metadata": {},
     "output_type": "execute_result"
    }
   ],
   "source": [
    "import org.apache.spark.streaming.StreamingContext._\n",
    "import org.apache.spark.streaming.{Seconds, StreamingContext}\n",
    "import org.apache.spark.{SparkConf, SparkContext}\n",
    "import org.apache.spark.sql.SQLContext\n",
    "import org.apache.spark.streaming.Duration\n",
    "import org.apache.spark.sql.functions.udf\n",
    "import org.apache.spark.sql.types\n",
    "import spark.implicits._"
   ]
  },
  {
   "cell_type": "code",
   "execution_count": 13,
   "id": "062df5f6-487b-422f-a94a-b90c84ff672d",
   "metadata": {},
   "outputs": [],
   "source": [
    "!rm -r checkpoint\n"
   ]
  },
  {
   "cell_type": "code",
   "execution_count": 14,
   "id": "3e122582-5a14-429d-94c6-8972f0afb4ea",
   "metadata": {},
   "outputs": [],
   "source": [
    "!mkdir checkpoint"
   ]
  },
  {
   "cell_type": "code",
   "execution_count": 15,
   "id": "efc1a51f-20dc-4764-a5bc-f20643736645",
   "metadata": {},
   "outputs": [
    {
     "data": {
      "text/plain": [
       "schema: org.apache.spark.sql.types.StructType = StructType(StructField(agent-phone,StringType,true),StructField(bath,StringType,true),StructField(bedrooms,StringType,true),StructField(beds,StringType,true),StructField(data-est,StringType,true),StructField(data-lk,StringType,true),StructField(data-pk,StringType,true),StructField(data-pos,StringType,true),StructField(full_bathrooms,StringType,true),StructField(home_type,StringType,true),StructField(ldp-description-text,StringType,true),StructField(ldp-phone-link,StringType,true),StructField(price,StringType,true),StructField(property-info-address-citystatezip,StringType,true),StructField(property-info-address-main,StringType,true),StructField(sold date,StringType,true),StructField(sqft,StringType,true),StructField(status,StringType,true),...\n"
      ]
     },
     "execution_count": 15,
     "metadata": {},
     "output_type": "execute_result"
    }
   ],
   "source": [
    "val schema = spark.read.json(\"input/*.json\").schema"
   ]
  },
  {
   "cell_type": "code",
   "execution_count": 16,
   "id": "4629b152-de17-4e1f-8fee-6fbdc8b8527f",
   "metadata": {},
   "outputs": [
    {
     "data": {
      "text/plain": [
       "df: org.apache.spark.sql.DataFrame = [agent-phone: string, bath: string ... 18 more fields]\n"
      ]
     },
     "execution_count": 16,
     "metadata": {},
     "output_type": "execute_result"
    }
   ],
   "source": [
    "val df = spark.readStream\n",
    "    .format(\"json\")\n",
    "    .schema(schema)\n",
    "    .option(\"multiLine\", \"false\")\n",
    "    .load(\"input/*.json\")\n",
    "    .select(\"*\", \"_metadata\")"
   ]
  },
  {
   "cell_type": "markdown",
   "id": "a41291cf-d98f-45d3-a6c7-8b996e632e5a",
   "metadata": {},
   "source": [
    "/*\n",
    "val df = spark.readStream\n",
    "    .format(\"json\")\n",
    "    .schema(schema)\n",
    "    .option(\"multiLine\", \"false\")\n",
    "    .option(\"cleanSource\", \"archive\")\n",
    "    .option(\"sourceArchiveDir\", f\"input_archive\")\n",
    "    .load(\"input/*.json\")\n",
    "    .select(\"*\", \"_metadata\")\n",
    "*/"
   ]
  },
  {
   "cell_type": "code",
   "execution_count": 17,
   "id": "64316350-b2cf-4c7c-8078-1fd7653fdbcf",
   "metadata": {},
   "outputs": [
    {
     "data": {
      "text/plain": [
       "df2: org.apache.spark.sql.streaming.StreamingQuery = org.apache.spark.sql.execution.streaming.StreamingQueryWrapper@4a51264b\n"
      ]
     },
     "execution_count": 17,
     "metadata": {},
     "output_type": "execute_result"
    }
   ],
   "source": [
    "val df2 = df.writeStream\n",
    "    .option(\"checkpointLocation\", \"checkpoint\")\n",
    "    .option(\"overwriteSchema\",true)\n",
    "    .trigger(org.apache.spark.sql.streaming.Trigger.ProcessingTime(\"1 second\"))\n",
    "    .toTable(\"bronze_houses\")"
   ]
  },
  {
   "cell_type": "code",
   "execution_count": null,
   "id": "bcf14f50-aeae-4b51-bea6-7dc12dd9c478",
   "metadata": {},
   "outputs": [],
   "source": [
    "df2.processAllAvailable\n",
    "//df2.stop\n",
    "df2.awaitTermination"
   ]
  },
  {
   "cell_type": "code",
   "execution_count": null,
   "id": "5e1523b9-ef26-4763-9e7c-ca0c8ac725d4",
   "metadata": {},
   "outputs": [],
   "source": [
    "spark.catalog.listTables show"
   ]
  },
  {
   "cell_type": "code",
   "execution_count": null,
   "id": "cae55818-fed4-46cc-acac-1b03464c2367",
   "metadata": {},
   "outputs": [],
   "source": [
    "val df3 = spark.read.format(\"jdbc\").table(\"bronze_houses\")"
   ]
  },
  {
   "cell_type": "code",
   "execution_count": null,
   "id": "07d28a16-a9f5-4aee-9a44-67fa91134b78",
   "metadata": {},
   "outputs": [],
   "source": [
    "df3.count"
   ]
  },
  {
   "cell_type": "code",
   "execution_count": null,
   "id": "7dabb9ed-6776-47ba-9eff-2f1756abad39",
   "metadata": {},
   "outputs": [],
   "source": [
    "df2.stop"
   ]
  },
  {
   "cell_type": "code",
   "execution_count": null,
   "id": "9ec3a2f9-e9aa-4de4-836a-8a61be1da12b",
   "metadata": {},
   "outputs": [],
   "source": [
    "df3.select(\"_metadata\").distinct.show(truncate=false)"
   ]
  },
  {
   "cell_type": "code",
   "execution_count": null,
   "id": "c5c482dc-c297-46c2-b088-0733fa1c6195",
   "metadata": {},
   "outputs": [],
   "source": []
  }
 ],
 "metadata": {
  "kernelspec": {
   "display_name": "spylon-kernel",
   "language": "scala",
   "name": "spylon-kernel"
  },
  "language_info": {
   "codemirror_mode": "text/x-scala",
   "file_extension": ".scala",
   "help_links": [
    {
     "text": "MetaKernel Magics",
     "url": "https://metakernel.readthedocs.io/en/latest/source/README.html"
    }
   ],
   "mimetype": "text/x-scala",
   "name": "scala",
   "pygments_lexer": "scala",
   "version": "0.4.1"
  }
 },
 "nbformat": 4,
 "nbformat_minor": 5
}
