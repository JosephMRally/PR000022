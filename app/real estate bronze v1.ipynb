{
 "cells": [
  {
   "cell_type": "code",
   "execution_count": null,
   "id": "19c5ed56-8604-422a-9e00-2bfbe173b3e0",
   "metadata": {},
   "outputs": [],
   "source": [
    "import org.apache.spark.streaming.StreamingContext._\n",
    "import org.apache.spark.streaming.{Seconds, StreamingContext}\n",
    "import org.apache.spark.{SparkConf, SparkContext}\n",
    "import org.apache.spark.sql.SQLContext\n",
    "import org.apache.spark.streaming.Duration\n",
    "import org.apache.spark.sql.functions.udf\n",
    "import org.apache.spark.sql.types\n",
    "import spark.implicits._"
   ]
  },
  {
   "cell_type": "code",
   "execution_count": null,
   "id": "062df5f6-487b-422f-a94a-b90c84ff672d",
   "metadata": {},
   "outputs": [],
   "source": [
    "!rm -r checkpoint\n"
   ]
  },
  {
   "cell_type": "code",
   "execution_count": null,
   "id": "3e122582-5a14-429d-94c6-8972f0afb4ea",
   "metadata": {},
   "outputs": [],
   "source": [
    "!mkdir checkpoint"
   ]
  },
  {
   "cell_type": "code",
   "execution_count": null,
   "id": "5e515698-b241-4061-85bd-1fc591453f72",
   "metadata": {},
   "outputs": [],
   "source": [
    "!rm -r spark-warehouse"
   ]
  },
  {
   "cell_type": "code",
   "execution_count": null,
   "id": "cab7aa00-43bc-490b-93d8-2c173b60f395",
   "metadata": {},
   "outputs": [],
   "source": []
  },
  {
   "cell_type": "code",
   "execution_count": 5,
   "id": "efc1a51f-20dc-4764-a5bc-f20643736645",
   "metadata": {},
   "outputs": [
    {
     "data": {
      "text/plain": [
       "df: org.apache.spark.sql.DataFrame = [agent-phone: string, bath: string ... 17 more fields]\n"
      ]
     },
     "execution_count": 5,
     "metadata": {},
     "output_type": "execute_result"
    }
   ],
   "source": [
    "val df = spark.read\n",
    "    .json(\"input/*.json\")"
   ]
  },
  {
   "cell_type": "code",
   "execution_count": 6,
   "id": "320496eb-5833-4ccc-bd51-3d71be855208",
   "metadata": {},
   "outputs": [
    {
     "data": {
      "text/plain": [
       "res0: Long = 34\n"
      ]
     },
     "execution_count": 6,
     "metadata": {},
     "output_type": "execute_result"
    }
   ],
   "source": [
    "df.count()"
   ]
  },
  {
   "cell_type": "code",
   "execution_count": 7,
   "id": "441f5db9-e38f-41d7-84e6-02545c066a93",
   "metadata": {},
   "outputs": [
    {
     "data": {
      "text/plain": [
       "schema: org.apache.spark.sql.types.StructType = StructType(StructField(agent-phone,StringType,true),StructField(bath,StringType,true),StructField(bedrooms,StringType,true),StructField(beds,StringType,true),StructField(data-est,StringType,true),StructField(data-lk,StringType,true),StructField(data-pk,StringType,true),StructField(data-pos,StringType,true),StructField(full_bathrooms,StringType,true),StructField(home_type,StringType,true),StructField(ldp-description-text,StringType,true),StructField(ldp-phone-link,StringType,true),StructField(price,StringType,true),StructField(property-info-address-citystatezip,StringType,true),StructField(property-info-address-main,StringType,true),StructField(sold date,StringType,true),StructField(sqft,StringType,true),StructField(status,StringType,true),...\n"
      ]
     },
     "execution_count": 7,
     "metadata": {},
     "output_type": "execute_result"
    }
   ],
   "source": [
    "val schema = df.schema"
   ]
  },
  {
   "cell_type": "code",
   "execution_count": 8,
   "id": "04c1dd2b-753c-4009-8843-e29a67149999",
   "metadata": {},
   "outputs": [
    {
     "data": {
      "text/plain": [
       "df: org.apache.spark.sql.DataFrame = [agent-phone: string, bath: string ... 17 more fields]\n"
      ]
     },
     "execution_count": 8,
     "metadata": {},
     "output_type": "execute_result"
    }
   ],
   "source": [
    "val df = spark.readStream\n",
    "    .format(\"json\")\n",
    "    .schema(schema)\n",
    "    .option(\"multiLine\", \"false\")\n",
    "    .option(\"cleanSource\", \"archive\")\n",
    "    .option(\"sourceArchiveDir\", f\"input_archive\")\n",
    "    .load(\"input/*.json\")"
   ]
  },
  {
   "cell_type": "code",
   "execution_count": 9,
   "id": "cfd9fb02-5b04-461d-83e4-239001a30c76",
   "metadata": {},
   "outputs": [],
   "source": [
    "/*\n",
    "df\n",
    "    .writeStream\n",
    "    .outputMode(\"append\")\n",
    "    .option(\"truncate\", false)\n",
    "    .format(\"console\")\n",
    "    .start()\n",
    "    .awaitTermination()\n",
    "    */"
   ]
  },
  {
   "cell_type": "code",
   "execution_count": 10,
   "id": "64316350-b2cf-4c7c-8078-1fd7653fdbcf",
   "metadata": {},
   "outputs": [
    {
     "data": {
      "text/plain": [
       "df2: org.apache.spark.sql.streaming.StreamingQuery = org.apache.spark.sql.execution.streaming.StreamingQueryWrapper@19e0a546\n"
      ]
     },
     "execution_count": 10,
     "metadata": {},
     "output_type": "execute_result"
    }
   ],
   "source": [
    "val df2 = df.writeStream\n",
    "    .option(\"path\", \"output\")\n",
    "    .option(\"checkpointLocation\", \"checkpoint\")\n",
    "    .trigger(org.apache.spark.sql.streaming.Trigger.ProcessingTime(\"5 seconds\"))\n",
    "    .toTable(\"houses\")"
   ]
  },
  {
   "cell_type": "code",
   "execution_count": null,
   "id": "bcf14f50-aeae-4b51-bea6-7dc12dd9c478",
   "metadata": {},
   "outputs": [],
   "source": [
    "df2.processAllAvailable\n",
    "//df2.stop\n",
    "df2.awaitTermination"
   ]
  },
  {
   "cell_type": "code",
   "execution_count": null,
   "id": "cae55818-fed4-46cc-acac-1b03464c2367",
   "metadata": {},
   "outputs": [],
   "source": [
    "val df3 = spark.read.table(\"houses\")"
   ]
  },
  {
   "cell_type": "code",
   "execution_count": null,
   "id": "07d28a16-a9f5-4aee-9a44-67fa91134b78",
   "metadata": {},
   "outputs": [],
   "source": [
    "df3.count"
   ]
  },
  {
   "cell_type": "code",
   "execution_count": null,
   "id": "7dabb9ed-6776-47ba-9eff-2f1756abad39",
   "metadata": {},
   "outputs": [],
   "source": [
    "df2.stop"
   ]
  },
  {
   "cell_type": "code",
   "execution_count": null,
   "id": "c3ac85e2-860d-497d-9cad-687152c4b032",
   "metadata": {},
   "outputs": [],
   "source": []
  }
 ],
 "metadata": {
  "kernelspec": {
   "display_name": "spylon-kernel",
   "language": "scala",
   "name": "spylon-kernel"
  },
  "language_info": {
   "codemirror_mode": "text/x-scala",
   "file_extension": ".scala",
   "help_links": [
    {
     "text": "MetaKernel Magics",
     "url": "https://metakernel.readthedocs.io/en/latest/source/README.html"
    }
   ],
   "mimetype": "text/x-scala",
   "name": "scala",
   "pygments_lexer": "scala",
   "version": "0.4.1"
  }
 },
 "nbformat": 4,
 "nbformat_minor": 5
}
