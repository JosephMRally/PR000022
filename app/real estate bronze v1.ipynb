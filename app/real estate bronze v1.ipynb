{
 "cells": [
  {
   "cell_type": "code",
   "execution_count": 111,
   "id": "19c5ed56-8604-422a-9e00-2bfbe173b3e0",
   "metadata": {},
   "outputs": [
    {
     "data": {
      "text/plain": [
       "import org.apache.spark.streaming.StreamingContext._\n",
       "import org.apache.spark.streaming.{Seconds, StreamingContext}\n",
       "import org.apache.spark.{SparkConf, SparkContext}\n",
       "import org.apache.spark.sql.SQLContext\n",
       "import org.apache.spark.streaming.Duration\n",
       "import org.apache.spark.sql.functions.udf\n",
       "import org.apache.spark.sql.types\n",
       "import spark.implicits._\n"
      ]
     },
     "execution_count": 111,
     "metadata": {},
     "output_type": "execute_result"
    }
   ],
   "source": [
    "import org.apache.spark.streaming.StreamingContext._\n",
    "import org.apache.spark.streaming.{Seconds, StreamingContext}\n",
    "import org.apache.spark.{SparkConf, SparkContext}\n",
    "import org.apache.spark.sql.SQLContext\n",
    "import org.apache.spark.streaming.Duration\n",
    "import org.apache.spark.sql.functions.udf\n",
    "import org.apache.spark.sql.types\n",
    "import spark.implicits._"
   ]
  },
  {
   "cell_type": "code",
   "execution_count": 112,
   "id": "062df5f6-487b-422f-a94a-b90c84ff672d",
   "metadata": {},
   "outputs": [],
   "source": [
    "!rm -r checkpoint\n"
   ]
  },
  {
   "cell_type": "code",
   "execution_count": 113,
   "id": "3e122582-5a14-429d-94c6-8972f0afb4ea",
   "metadata": {},
   "outputs": [],
   "source": [
    "!mkdir checkpoint"
   ]
  },
  {
   "cell_type": "code",
   "execution_count": 114,
   "id": "efc1a51f-20dc-4764-a5bc-f20643736645",
   "metadata": {},
   "outputs": [
    {
     "data": {
      "text/plain": [
       "df: org.apache.spark.sql.DataFrame = [agent-phone: string, bath: string ... 17 more fields]\n"
      ]
     },
     "execution_count": 114,
     "metadata": {},
     "output_type": "execute_result"
    }
   ],
   "source": [
    "val df = spark.read\n",
    "    .json(\"input/*.json\")"
   ]
  },
  {
   "cell_type": "code",
   "execution_count": 115,
   "id": "320496eb-5833-4ccc-bd51-3d71be855208",
   "metadata": {},
   "outputs": [
    {
     "data": {
      "text/plain": [
       "res44: Long = 34\n"
      ]
     },
     "execution_count": 115,
     "metadata": {},
     "output_type": "execute_result"
    }
   ],
   "source": [
    "df.count()"
   ]
  },
  {
   "cell_type": "code",
   "execution_count": 116,
   "id": "441f5db9-e38f-41d7-84e6-02545c066a93",
   "metadata": {},
   "outputs": [
    {
     "data": {
      "text/plain": [
       "schema: org.apache.spark.sql.types.StructType = StructType(StructField(agent-phone,StringType,true),StructField(bath,StringType,true),StructField(bedrooms,StringType,true),StructField(beds,StringType,true),StructField(data-est,StringType,true),StructField(data-lk,StringType,true),StructField(data-pk,StringType,true),StructField(data-pos,StringType,true),StructField(full_bathrooms,StringType,true),StructField(home_type,StringType,true),StructField(ldp-description-text,StringType,true),StructField(ldp-phone-link,StringType,true),StructField(price,StringType,true),StructField(property-info-address-citystatezip,StringType,true),StructField(property-info-address-main,StringType,true),StructField(sold date,StringType,true),StructField(sqft,StringType,true),StructField(status,StringType,true),...\n"
      ]
     },
     "execution_count": 116,
     "metadata": {},
     "output_type": "execute_result"
    }
   ],
   "source": [
    "val schema = df.schema"
   ]
  },
  {
   "cell_type": "code",
   "execution_count": 130,
   "id": "04c1dd2b-753c-4009-8843-e29a67149999",
   "metadata": {},
   "outputs": [
    {
     "data": {
      "text/plain": [
       "df: org.apache.spark.sql.DataFrame = [agent-phone: string, bath: string ... 17 more fields]\n"
      ]
     },
     "execution_count": 130,
     "metadata": {},
     "output_type": "execute_result"
    }
   ],
   "source": [
    "val df = spark.readStream\n",
    "    .format(\"json\")\n",
    "    .schema(schema)\n",
    "    .option(\"multiLine\", \"false\")\n",
    "    .option(\"cleanSource\", \"archive\")\n",
    "    .option(\"sourceArchiveDir\", f\"input_archive\")\n",
    "    .load(\"input/*.json\")"
   ]
  },
  {
   "cell_type": "code",
   "execution_count": 131,
   "id": "cfd9fb02-5b04-461d-83e4-239001a30c76",
   "metadata": {},
   "outputs": [],
   "source": [
    "/*\n",
    "df\n",
    "    .writeStream\n",
    "    .outputMode(\"append\")\n",
    "    .option(\"truncate\", false)\n",
    "    .format(\"console\")\n",
    "    .start()\n",
    "    .awaitTermination()\n",
    "    */"
   ]
  },
  {
   "cell_type": "code",
   "execution_count": 133,
   "id": "64316350-b2cf-4c7c-8078-1fd7653fdbcf",
   "metadata": {},
   "outputs": [
    {
     "data": {
      "text/plain": [
       "df2: org.apache.spark.sql.streaming.StreamingQuery = org.apache.spark.sql.execution.streaming.StreamingQueryWrapper@b7797a9\n"
      ]
     },
     "execution_count": 133,
     "metadata": {},
     "output_type": "execute_result"
    }
   ],
   "source": [
    "val df2 = df.writeStream\n",
    "    .option(\"path\", \"output\")\n",
    "    .option(\"checkpointLocation\", \"checkpoint\")\n",
    "    .toTable(\"houses\")"
   ]
  },
  {
   "cell_type": "code",
   "execution_count": 134,
   "id": "bcf14f50-aeae-4b51-bea6-7dc12dd9c478",
   "metadata": {},
   "outputs": [],
   "source": [
    "Thread.sleep(4)\n",
    "df2.stop()"
   ]
  },
  {
   "cell_type": "code",
   "execution_count": 135,
   "id": "cae55818-fed4-46cc-acac-1b03464c2367",
   "metadata": {},
   "outputs": [
    {
     "data": {
      "text/plain": [
       "df3: org.apache.spark.sql.DataFrame = [agent-phone: string, bath: string ... 17 more fields]\n"
      ]
     },
     "execution_count": 135,
     "metadata": {},
     "output_type": "execute_result"
    }
   ],
   "source": [
    "val df3 = spark.read.table(\"houses\")"
   ]
  },
  {
   "cell_type": "code",
   "execution_count": 136,
   "id": "07d28a16-a9f5-4aee-9a44-67fa91134b78",
   "metadata": {},
   "outputs": [
    {
     "name": "stdout",
     "output_type": "stream",
     "text": [
      "+--------------+-------------------+--------------------+-------+--------+-------------+-------------+--------+----------------+-------------+--------------------+--------------+--------+----------------------------------+--------------------------+------------+------------+-------------------+--------------------+\n",
      "|   agent-phone|               bath|            bedrooms|   beds|data-est|      data-lk|      data-pk|data-pos|  full_bathrooms|    home_type|ldp-description-text|ldp-phone-link|   price|property-info-address-citystatezip|property-info-address-main|   sold date|        sqft|             status|                 url|\n",
      "+--------------+-------------------+--------------------+-------+--------+-------------+-------------+--------+----------------+-------------+--------------------+--------------+--------+----------------------------------+--------------------------+------------+------------+-------------------+--------------------+\n",
      "|          NULL|Henderson, NV 89011|Bedrooms and Bath...|3\\nBeds|    sold|lwckcx4f9w4en|y3jpq3k9790tb|      34|2 Full Bathrooms|Single Family|The elegant one-s...|          NULL|$517,290|               Henderson, NV 89011|                109 Lepage|        NULL|1,742\\nSq Ft|not listed for sale|https://www.homes...|\n",
      "|          NULL|Henderson, NV 89015|Bedrooms and Bath...|3\\nBeds|    sold|30srnb6dcl61s|phh1k5ec63yl2|      33|            NULL|Single Family|Discover unparall...|          NULL|    NULL|               Henderson, NV 89015|           323 Tungsten St| feb 9, 2024|1,219\\nSq Ft|               sold|https://www.homes...|\n",
      "|          NULL|Henderson, NV 89015|Bedrooms and Bath...|3\\nBeds|    sold|m6pfqrn229px1|23hvemg3h3872|      32|            NULL|Single Family|Welcome to this g...|          NULL|    NULL|               Henderson, NV 89015|           34 Arkansas Ave|feb 12, 2024|1,062\\nSq Ft|               sold|https://www.homes...|\n",
      "|          NULL|Henderson, NV 89015|Bedrooms and Bath...|3\\nBeds|    sold|fl1ftj7dvh143|3fvg8myg86lnz|      31|            NULL|Single Family|Location, locatio...|          NULL|$190,000|               Henderson, NV 89015|           231 S Texas Ave|        NULL|  878\\nSq Ft|not listed for sale|https://www.homes...|\n",
      "|          NULL|Henderson, NV 89015|Bedrooms and Bath...|3\\nBeds|    sold|2nnk1kdt634nd|82zdwmq1pm3q0|      30|2 Full Bathrooms|Single Family|Beautiful 3bd 2ba...|          NULL|    NULL|               Henderson, NV 89015|             60 Mallory St| apr 4, 2024|1,330\\nSq Ft|               sold|https://www.homes...|\n",
      "|          NULL|Henderson, NV 89015|Bedrooms and Bath...|3\\nBeds|    sold|er7gkdt4pp33w|rpbxqtjm1wlc6|      29|            NULL|Single Family|Gorgeous newly re...|          NULL|    NULL|               Henderson, NV 89015|         15 Washington Way|apr 10, 2024|  942\\nSq Ft|               sold|https://www.homes...|\n",
      "|(702) 528-1500|Henderson, NV 89015|Henderson Water S...|3\\nBeds|    sold|f0zb921cfpyj2|7781e5jvydf6s|      28|            NULL|Single Family|Henderson Water S...|(702) 528-1500|    NULL|               Henderson, NV 89015|            27 Wyoming Ave|apr 15, 2024|1,014\\nSq Ft|               sold|https://www.homes...|\n",
      "|(725) 888-8724|Henderson, NV 89015|Bedrooms and Bath...|3\\nBeds|    sold|4g0gvwv55j7t1|3vf0396f6m4xm|      27|            NULL|Single Family|CHARMING SINGLE S...|(725) 888-8724|    NULL|               Henderson, NV 89015|          43 E Pacific Ave|may 16, 2024|  866\\nSq Ft|               sold|https://www.homes...|\n",
      "|          NULL|Henderson, NV 89015|Bedrooms and Bath...|3\\nBeds|    sold|el5c6mj5cmxpq|wlsyhjshjc471|      26|2 Full Bathrooms|Single Family|Enter this stunni...|          NULL|    NULL|               Henderson, NV 89015|              50 Lowery St|may 31, 2024|1,345\\nSq Ft|               sold|https://www.homes...|\n",
      "|          NULL|Henderson, NV 89015|Bedrooms and Bath...|3\\nBeds|    sold|xwldw014fhskl|42jhlb2r98zvb|      25|            NULL|Single Family|Nice 3 Bedroom, 1...|          NULL|    NULL|               Henderson, NV 89015|           247 S Texas Ave| jun 3, 2024|1,150\\nSq Ft|               sold|https://www.homes...|\n",
      "+--------------+-------------------+--------------------+-------+--------+-------------+-------------+--------+----------------+-------------+--------------------+--------------+--------+----------------------------------+--------------------------+------------+------------+-------------------+--------------------+\n",
      "only showing top 10 rows\n",
      "\n"
     ]
    }
   ],
   "source": [
    "df3.show(10)"
   ]
  },
  {
   "cell_type": "code",
   "execution_count": null,
   "id": "82ceae01-504e-403e-ad12-7e7e7a76b4fc",
   "metadata": {},
   "outputs": [],
   "source": []
  },
  {
   "cell_type": "code",
   "execution_count": null,
   "id": "a545ee50-a8c6-44a7-a299-d9060ff58c25",
   "metadata": {},
   "outputs": [],
   "source": []
  },
  {
   "cell_type": "code",
   "execution_count": null,
   "id": "2a230e73-da0f-4218-a977-75f02c6e8741",
   "metadata": {},
   "outputs": [],
   "source": []
  }
 ],
 "metadata": {
  "kernelspec": {
   "display_name": "spylon-kernel",
   "language": "scala",
   "name": "spylon-kernel"
  },
  "language_info": {
   "codemirror_mode": "text/x-scala",
   "file_extension": ".scala",
   "help_links": [
    {
     "text": "MetaKernel Magics",
     "url": "https://metakernel.readthedocs.io/en/latest/source/README.html"
    }
   ],
   "mimetype": "text/x-scala",
   "name": "scala",
   "pygments_lexer": "scala",
   "version": "0.4.1"
  }
 },
 "nbformat": 4,
 "nbformat_minor": 5
}
