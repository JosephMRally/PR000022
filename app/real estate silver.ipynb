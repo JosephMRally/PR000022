{
 "cells": [
  {
   "cell_type": "code",
   "execution_count": null,
   "id": "19c5ed56-8604-422a-9e00-2bfbe173b3e0",
   "metadata": {},
   "outputs": [],
   "source": [
    "import org.apache.spark.streaming.StreamingContext._\n",
    "import org.apache.spark.streaming.{Seconds, StreamingContext}\n",
    "import org.apache.spark.{SparkConf, SparkContext}\n",
    "import org.apache.spark.streaming.Duration\n",
    "import org.apache.spark.sql.SQLContext\n",
    "import org.apache.spark.sql.SparkSession\n",
    "import org.apache.spark.sql.Row\n",
    "import org.apache.spark.sql.functions.udf\n",
    "import org.apache.spark.sql.{functions => F}\n",
    "import org.apache.spark.sql.{types => T}\n",
    "import org.apache.spark.sql.expressions.Window\n",
    "import java.sql.Timestamp\n",
    "import spark.implicits._"
   ]
  },
  {
   "cell_type": "code",
   "execution_count": null,
   "id": "b1a72f8e-4b95-48ab-9943-4df79c2ac214",
   "metadata": {},
   "outputs": [],
   "source": [
    "spark.catalog.listTables show"
   ]
  },
  {
   "cell_type": "code",
   "execution_count": null,
   "id": "04c1dd2b-753c-4009-8843-e29a67149999",
   "metadata": {},
   "outputs": [],
   "source": [
    "val df3 = spark.read.format(\"jdbc\").table(\"bronze_houses\")"
   ]
  },
  {
   "cell_type": "code",
   "execution_count": null,
   "id": "6783055f-f34b-49e4-acc9-bf64fa9b170e",
   "metadata": {},
   "outputs": [],
   "source": [
    "df3.count"
   ]
  },
  {
   "cell_type": "code",
   "execution_count": null,
   "id": "f47034a0-74d6-4c42-8f27-e230c496abad",
   "metadata": {},
   "outputs": [],
   "source": [
    "val df_bronze = spark\n",
    "    .read\n",
    "    .format(\"jdbc\")\n",
    "    .table(\"bronze_houses\")"
   ]
  },
  {
   "cell_type": "code",
   "execution_count": null,
   "id": "546e6276-0404-4bf6-b692-83d362e983ae",
   "metadata": {},
   "outputs": [],
   "source": [
    "val df_bronze_1 = df_bronze\n",
    "    .withColumn(\"_filename\", $\"_metadata.file_name\")\n",
    "    .withColumn(\"_modification_time\", $\"_metadata.file_modification_time\")\n",
    "    .withColumn(\"_start\", F.lit(\"\").cast(T.TimestampType))\n",
    "    .withColumn(\"_end\", F.lit(\"\").cast(T.TimestampType))\n",
    "    .withColumnRenamed(\"data-pk\", \"data_pk\")\n",
    "    .withColumnRenamed(\"data-lk\", \"data_lk\")\n",
    "    .drop(\"_metadata\")"
   ]
  },
  {
   "cell_type": "code",
   "execution_count": null,
   "id": "28fba4d8-1376-447d-b4f0-80a611e05ef4",
   "metadata": {},
   "outputs": [],
   "source": [
    "// rearrage the columns to a more intutitive order"
   ]
  },
  {
   "cell_type": "code",
   "execution_count": null,
   "id": "978cbbc4-d280-4c49-af08-c175294b4673",
   "metadata": {},
   "outputs": [],
   "source": [
    "val column_order = Seq(\"data_pk\", \"data_lk\") ++ df_bronze_1.columns.filter(x => !Seq(\"data_pk\", \"data_lk\").contains(x))"
   ]
  },
  {
   "cell_type": "code",
   "execution_count": null,
   "id": "7552865d-d648-4936-ac1c-6e603edc1b2b",
   "metadata": {},
   "outputs": [],
   "source": [
    "val df_bronze = df_bronze_1.select(column_order.map(col):_*)"
   ]
  },
  {
   "cell_type": "code",
   "execution_count": null,
   "id": "eee29139-b999-463f-9a80-f11c818fa563",
   "metadata": {},
   "outputs": [],
   "source": [
    "val df_silver_schema = df_bronze.schema"
   ]
  },
  {
   "cell_type": "code",
   "execution_count": null,
   "id": "ec363b10-2ebc-4ec1-88fb-4bb5bde52110",
   "metadata": {},
   "outputs": [],
   "source": [
    "// get silver table"
   ]
  },
  {
   "cell_type": "code",
   "execution_count": null,
   "id": "67ee0831-3a12-44be-aa10-411d587d4865",
   "metadata": {},
   "outputs": [],
   "source": [
    "val df_silver_before = spark.catalog.listTables().filter(row => row.name == \"silver_house\").count match {\n",
    "    case 0 => spark.createDataFrame(sc.emptyRDD[Row], df_silver_schema)\n",
    "    case _ => spark.read.schema(df_silver_schema).table(\"silver.houses\")\n",
    "}"
   ]
  },
  {
   "cell_type": "code",
   "execution_count": null,
   "id": "e08bc464-f93f-4554-a34e-b3369afa4838",
   "metadata": {},
   "outputs": [],
   "source": [
    "// identify new entries"
   ]
  },
  {
   "cell_type": "code",
   "execution_count": null,
   "id": "1e2eb813-a25a-4435-98bb-c4c4814a776b",
   "metadata": {},
   "outputs": [],
   "source": [
    "val new_data_1 = df_bronze.select(\"data_pk\").except(df_silver_before.select(\"data_pk\")).distinct().orderBy($\"data_pk\")"
   ]
  },
  {
   "cell_type": "code",
   "execution_count": null,
   "id": "02ffba4d-40e3-49e9-8f96-62a4bc0a6dbd",
   "metadata": {},
   "outputs": [],
   "source": [
    "val new_data_2 = df_bronze.as(\"a\")\n",
    "    .join(\n",
    "        new_data_1.as(\"b\"),\n",
    "        $\"a.data_pk\" === $\"b.data_pk\",\n",
    "        \"semi\")\n",
    "    .withColumn(\"_start\", $\"_modification_time\")"
   ]
  },
  {
   "cell_type": "code",
   "execution_count": null,
   "id": "d875ff8a-07f2-4011-90f8-ec0a509bf5ea",
   "metadata": {},
   "outputs": [],
   "source": [
    "val new_data_3_cols = column_order filter(x => !Seq(\"_start\", \"_end\", \"_modification_time\", \"_filename\", \"data-pos\").contains(x)) map(col)\n",
    "val windowSpec_3 = Window.partitionBy(new_data_3_cols:_*).orderBy(\"_start\")\n",
    "val new_data_3 = (new_data_2\n",
    "    withColumn(\"_rn\", F.row_number().over(windowSpec_3))\n",
    "    where($\"_rn\" === 1)\n",
    "    drop(\"_rn\")\n",
    "    withColumn(\"_start\", $\"_modification_time\")\n",
    "    )"
   ]
  },
  {
   "cell_type": "code",
   "execution_count": null,
   "id": "3c174dad-12f2-4d18-aabe-028652455ae9",
   "metadata": {},
   "outputs": [],
   "source": [
    "val new_data_4_cols = Seq(\"data_pk\") map(col)\n",
    "val windowSpec_4 = Window.partitionBy(new_data_4_cols:_*).orderBy(\"_start\")\n",
    "val new_data_4 = (new_data_3\n",
    "    withColumn(\"_end\", lead($\"_start\",1).over(windowSpec_4))\n",
    "    withColumn(\"_end\", F.coalesce($\"_end\", F.lit(Timestamp.valueOf(\"9999-12-31 00:00:00.000\"))))\n",
    ")\n",
    "// expr(\"_start - INTERVAL '1 microsecond'\"))"
   ]
  },
  {
   "cell_type": "code",
   "execution_count": null,
   "id": "ef0a22e0-d390-408f-b78d-7d887dda49b5",
   "metadata": {},
   "outputs": [],
   "source": []
  },
  {
   "cell_type": "code",
   "execution_count": null,
   "id": "526a83f3-76ef-45e2-819c-1c0eae8f6fd9",
   "metadata": {},
   "outputs": [],
   "source": []
  },
  {
   "cell_type": "code",
   "execution_count": null,
   "id": "d0a34ed5-0fbc-4a09-bf12-5af103690ae6",
   "metadata": {},
   "outputs": [],
   "source": []
  },
  {
   "cell_type": "code",
   "execution_count": null,
   "id": "d09d7a08-7ba0-4354-a27a-f1f9de438d91",
   "metadata": {},
   "outputs": [],
   "source": [
    "new_data_4.count()"
   ]
  },
  {
   "cell_type": "code",
   "execution_count": null,
   "id": "44560a97-7067-43bd-bbcc-dd2918d42141",
   "metadata": {},
   "outputs": [],
   "source": [
    "// timestamp_micros(unix_micros(Timestamp.valueOf(\"1968-09-05 07:30:15\")))"
   ]
  },
  {
   "cell_type": "code",
   "execution_count": null,
   "id": "e1050d39-e3c4-4a0f-8588-b78816a10167",
   "metadata": {},
   "outputs": [],
   "source": [
    "val df_silver_before_1 = df_silver_before.union(new_data_4)"
   ]
  },
  {
   "cell_type": "code",
   "execution_count": null,
   "id": "615ab2a4-d057-4d48-97ad-58d2d03d299b",
   "metadata": {},
   "outputs": [],
   "source": [
    "df_silver_before_1.write\n",
    "    .format(\"parquet\")\n",
    "    .mode(\"overwrite\")\n",
    "    .saveAsTable(\"silver_houses\")"
   ]
  },
  {
   "cell_type": "code",
   "execution_count": null,
   "id": "1d9546cc-e9d7-4d9a-918a-7883c9445a09",
   "metadata": {},
   "outputs": [],
   "source": [
    "spark.catalog.listTables show"
   ]
  },
  {
   "cell_type": "code",
   "execution_count": null,
   "id": "015475f1-f8d8-4aef-bc26-d3d2ea7e5dc7",
   "metadata": {},
   "outputs": [],
   "source": []
  }
 ],
 "metadata": {
  "kernelspec": {
   "display_name": "spylon-kernel",
   "language": "scala",
   "name": "spylon-kernel"
  },
  "language_info": {
   "codemirror_mode": "text/x-scala",
   "file_extension": ".scala",
   "help_links": [
    {
     "text": "MetaKernel Magics",
     "url": "https://metakernel.readthedocs.io/en/latest/source/README.html"
    }
   ],
   "mimetype": "text/x-scala",
   "name": "scala",
   "pygments_lexer": "scala",
   "version": "0.4.1"
  }
 },
 "nbformat": 4,
 "nbformat_minor": 5
}
