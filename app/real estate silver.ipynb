{
 "cells": [
  {
   "cell_type": "code",
   "execution_count": null,
   "id": "19c5ed56-8604-422a-9e00-2bfbe173b3e0",
   "metadata": {},
   "outputs": [],
   "source": [
    "import org.apache.spark.streaming.StreamingContext._\n",
    "import org.apache.spark.streaming.{Seconds, StreamingContext}\n",
    "import org.apache.spark.{SparkConf, SparkContext}\n",
    "import org.apache.spark.streaming.Duration\n",
    "import org.apache.spark.sql.SQLContext\n",
    "import org.apache.spark.sql.SparkSession\n",
    "import org.apache.spark.sql.Row\n",
    "import org.apache.spark.sql.functions.udf\n",
    "import org.apache.spark.sql.{functions => F}\n",
    "import org.apache.spark.sql.{types => T}\n",
    "import org.apache.spark.sql.expressions.Window\n",
    "import java.sql.Timestamp\n",
    "import spark.implicits._"
   ]
  },
  {
   "cell_type": "code",
   "execution_count": null,
   "id": "b1a72f8e-4b95-48ab-9943-4df79c2ac214",
   "metadata": {},
   "outputs": [],
   "source": [
    "spark.catalog.listTables show"
   ]
  },
  {
   "cell_type": "code",
   "execution_count": null,
   "id": "f47034a0-74d6-4c42-8f27-e230c496abad",
   "metadata": {},
   "outputs": [],
   "source": [
    "def get_bronze_table() = {\n",
    "    val df_bronze_1 = (spark.read\n",
    "        format(\"jdbc\")\n",
    "        table(\"bronze_houses\")\n",
    "    )\n",
    "    \n",
    "    val df_bronze_2 = (df_bronze_1\n",
    "        withColumn(\"_filename\", $\"_metadata.file_name\")\n",
    "        withColumn(\"_processing_time\", current_timestamp())\n",
    "        withColumn(\"_start\", F.substring($\"_metadata.file_name\",0,10))\n",
    "        withColumn(\"_start\", to_date($\"_start\", \"yyyy-MM-dd\"))\n",
    "        withColumn(\"_end\", F.lit(\"\").cast(T.TimestampType))\n",
    "        withColumnRenamed(\"data-pk\", \"data_pk\")\n",
    "        withColumnRenamed(\"data-lk\", \"data_lk\")\n",
    "        withColumnRenamed(\"ldp-description-text\", \"ldp_description_text\")\n",
    "        withColumnRenamed(\"ldp-phone-link\", \"ldp_phone_link\")\n",
    "        withColumnRenamed(\"property-info-address-citystatezip\", \"property_info_address_citystatezip\")\n",
    "        withColumnRenamed(\"property-info-address-main\", \"property_info_address_main\")\n",
    "        withColumnRenamed(\"agent-phone\", \"agent_phone\")\n",
    "        withColumnRenamed(\"data-est\", \"data_est\")\n",
    "        withColumn(\"beds\", F.split($\"beds\", \"\\n\").getItem(0))\n",
    "        withColumn(\"price\", F.split($\"price\", \" \").getItem(0))\n",
    "        withColumn(\"property_info_address_citystatezip\", F.trim($\"property_info_address_citystatezip\"))\n",
    "        withColumn(\"property_info_address_main\", F.trim($\"property_info_address_main\"))\n",
    "        withColumn(\"full_bathrooms\", F.replace($\"full_bathrooms\", F.lit(\"Full Bathrooms\"), F.lit(\"\")))\n",
    "        withColumn(\"sqft\", F.split($\"sqft\", \"\\n\").getItem(0))\n",
    "        drop(\"_metadata\", \"data-pos\")\n",
    "        cache()\n",
    "        //where($\"_start\" < \"2025-02-09\") // TODO; for testing\n",
    "    )\n",
    "    \n",
    "    // rearrage the columns to a more intutitive order\n",
    "    val column_order = Seq(\"data_pk\", \"data_lk\") ++ df_bronze_2.columns.filter(x => !Seq(\"data_pk\", \"data_lk\").contains(x))\n",
    "    \n",
    "    val df_bronze = df_bronze_2.select(column_order.map(col):_*)\n",
    "    df_bronze\n",
    "}\n",
    "val df_bronze = get_bronze_table()\n",
    "df_bronze.count"
   ]
  },
  {
   "cell_type": "code",
   "execution_count": null,
   "id": "eee29139-b999-463f-9a80-f11c818fa563",
   "metadata": {},
   "outputs": [],
   "source": [
    "val df_silver_schema = df_bronze.schema"
   ]
  },
  {
   "cell_type": "code",
   "execution_count": null,
   "id": "ec363b10-2ebc-4ec1-88fb-4bb5bde52110",
   "metadata": {},
   "outputs": [],
   "source": [
    "// get silver table"
   ]
  },
  {
   "cell_type": "code",
   "execution_count": null,
   "id": "67ee0831-3a12-44be-aa10-411d587d4865",
   "metadata": {},
   "outputs": [],
   "source": [
    "val df_silver_before = spark.catalog.listTables.filter(row => row.name == \"silver_houses\").count match {\n",
    "    case 0 => spark.createDataFrame(sc.emptyRDD[Row], df_silver_schema) // table does not exist\n",
    "    case _ => spark.read.table(\"silver_houses\").cache()\n",
    "}\n",
    "df_silver_before.count()"
   ]
  },
  {
   "cell_type": "code",
   "execution_count": null,
   "id": "f178d963-b440-4dd6-a223-4ce9fc7e022e",
   "metadata": {},
   "outputs": [],
   "source": [
    "val df_silver_existing_entries_with_new_changes = (\n",
    "    df_silver_before.as(\"a\")\n",
    "    join(\n",
    "        df_bronze.as(\"b\"),\n",
    "        $\"a.data_pk\" === $\"b.data_pk\",\n",
    "        \"semi\")\n",
    ")\n",
    "\n",
    "val df_silver_existing_entries_without_changes = (\n",
    "    df_silver_before.as(\"a\")\n",
    "    join(\n",
    "        df_bronze.as(\"b\"),\n",
    "        $\"a.data_pk\" === $\"b.data_pk\",\n",
    "        \"anti\")\n",
    ")\n",
    "(df_silver_existing_entries_with_new_changes count(), df_silver_existing_entries_without_changes count())"
   ]
  },
  {
   "cell_type": "code",
   "execution_count": null,
   "id": "d875ff8a-07f2-4011-90f8-ec0a509bf5ea",
   "metadata": {},
   "outputs": [],
   "source": [
    "// find new entries between both silver and bronze\n",
    "val columns_to_compare = df_bronze.columns filter(x => !Seq(\"_start\", \"_end\", \"_processing_time\", \"_filename\").contains(x)) map(col)\n",
    "val windowSpec_3 = Window.partitionBy(columns_to_compare:_*).orderBy(\"_start\")\n",
    "val new_data_3 = (\n",
    "    df_bronze union df_silver_existing_entries_with_new_changes\n",
    "    withColumn(\"_rn\", F.row_number().over(windowSpec_3))\n",
    "    where($\"_rn\" === 1)\n",
    "    drop(\"_rn\")\n",
    "    )\n",
    "new_data_3 count()"
   ]
  },
  {
   "cell_type": "code",
   "execution_count": null,
   "id": "3c174dad-12f2-4d18-aabe-028652455ae9",
   "metadata": {},
   "outputs": [],
   "source": [
    "// set end dates\n",
    "val new_data_4_cols = Seq(\"data_pk\") map(col)\n",
    "val windowSpec_4 = Window.partitionBy(new_data_4_cols:_*).orderBy(\"_start\")\n",
    "val new_data_4 = (\n",
    "    new_data_3\n",
    "    withColumn(\"_end\", lead($\"_start\",1).over(windowSpec_4))\n",
    "    withColumn(\"_end\", F.coalesce($\"_end\", F.lit(Timestamp.valueOf(\"9999-12-31 00:00:00.000\"))))\n",
    ")\n",
    "new_data_4 count()"
   ]
  },
  {
   "cell_type": "code",
   "execution_count": null,
   "id": "b9c5deb9-32a8-466c-939b-501db7c7ae77",
   "metadata": {},
   "outputs": [],
   "source": [
    "val results = (new_data_4\n",
    "    .union(df_silver_existing_entries_without_changes))\n",
    "results.count()"
   ]
  },
  {
   "cell_type": "code",
   "execution_count": null,
   "id": "615ab2a4-d057-4d48-97ad-58d2d03d299b",
   "metadata": {},
   "outputs": [],
   "source": [
    "results\n",
    "    .write\n",
    "    .format(\"parquet\")\n",
    "    .mode(\"overwrite\")\n",
    "    .saveAsTable(\"silver_houses_temp\")"
   ]
  },
  {
   "cell_type": "code",
   "execution_count": null,
   "id": "44880a9b-32f6-48bf-bea4-9d971965ed41",
   "metadata": {},
   "outputs": [],
   "source": [
    "spark.sql(\"DROP TABLE IF EXIStS silver_houses\")"
   ]
  },
  {
   "cell_type": "code",
   "execution_count": null,
   "id": "56201655-0f59-4c2b-97fa-de029b87bfb6",
   "metadata": {},
   "outputs": [],
   "source": [
    "spark.read.table(\"silver_houses_temp\")\n",
    ".write.saveAsTable(\"silver_houses\")"
   ]
  },
  {
   "cell_type": "code",
   "execution_count": null,
   "id": "293da4c6-2b0f-4d96-9e77-21d230f892ec",
   "metadata": {},
   "outputs": [],
   "source": [
    "spark.sql(\"select * from silver_houses where data_pk = '0dceq922d0y66' order by _start\") show"
   ]
  },
  {
   "cell_type": "code",
   "execution_count": null,
   "id": "bd30c392-1372-4618-b3e2-e27c47412d53",
   "metadata": {},
   "outputs": [],
   "source": []
  }
 ],
 "metadata": {
  "kernelspec": {
   "display_name": "spylon-kernel",
   "language": "scala",
   "name": "spylon-kernel"
  },
  "language_info": {
   "codemirror_mode": "text/x-scala",
   "file_extension": ".scala",
   "help_links": [
    {
     "text": "MetaKernel Magics",
     "url": "https://metakernel.readthedocs.io/en/latest/source/README.html"
    }
   ],
   "mimetype": "text/x-scala",
   "name": "scala",
   "pygments_lexer": "scala",
   "version": "0.4.1"
  }
 },
 "nbformat": 4,
 "nbformat_minor": 5
}
