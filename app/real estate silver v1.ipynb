{
 "cells": [
  {
   "cell_type": "code",
   "execution_count": null,
   "id": "19c5ed56-8604-422a-9e00-2bfbe173b3e0",
   "metadata": {},
   "outputs": [],
   "source": [
    "import org.apache.spark.streaming.StreamingContext._\n",
    "import org.apache.spark.streaming.{Seconds, StreamingContext}\n",
    "import org.apache.spark.{SparkConf, SparkContext}\n",
    "import org.apache.spark.streaming.Duration\n",
    "import org.apache.spark.sql.SQLContext\n",
    "import org.apache.spark.sql.SparkSession\n",
    "import org.apache.spark.sql.Row\n",
    "import org.apache.spark.sql.functions.udf\n",
    "import org.apache.spark.sql.{functions => F}\n",
    "import org.apache.spark.sql.{types => T}\n",
    "import spark.implicits._"
   ]
  },
  {
   "cell_type": "code",
   "execution_count": null,
   "id": "04c1dd2b-753c-4009-8843-e29a67149999",
   "metadata": {},
   "outputs": [],
   "source": [
    "val df3 = spark.read.format(\"jdbc\").table(\"houses\")"
   ]
  },
  {
   "cell_type": "code",
   "execution_count": null,
   "id": "6783055f-f34b-49e4-acc9-bf64fa9b170e",
   "metadata": {},
   "outputs": [],
   "source": [
    "df3.count"
   ]
  },
  {
   "cell_type": "code",
   "execution_count": null,
   "id": "f47034a0-74d6-4c42-8f27-e230c496abad",
   "metadata": {},
   "outputs": [],
   "source": [
    "val df_bronze = spark\n",
    "    .read\n",
    "    .format(\"jdbc\")\n",
    "    .table(\"houses\")"
   ]
  },
  {
   "cell_type": "code",
   "execution_count": null,
   "id": "546e6276-0404-4bf6-b692-83d362e983ae",
   "metadata": {},
   "outputs": [],
   "source": [
    "val df_bronze_1 = df_bronze\n",
    "    .withColumn(\"_filename\", $\"_metadata.file_name\")\n",
    "    .withColumn(\"_modification_time\", $\"_metadata.file_modification_time\")\n",
    "    .withColumn(\"_start\", F.lit(\"\").cast(T.TimestampType))\n",
    "    .withColumn(\"_end\", F.lit(\"\").cast(T.TimestampType))\n",
    "    .drop(\"_metadata\")\n",
    "val df_silver_schema = df_bronze_1.schema"
   ]
  },
  {
   "cell_type": "code",
   "execution_count": null,
   "id": "67ee0831-3a12-44be-aa10-411d587d4865",
   "metadata": {},
   "outputs": [],
   "source": [
    "val df_silver_before = spark.catalog.listTables().filter(row => row.name == \"silver_house\").count match {\n",
    "    case 0 => spark.createDataFrame(sc.emptyRDD[Row], df_silver_schema)\n",
    "    case _ => spark.read.schema(df_silver_schema).table(\"silver.houses\")\n",
    "}"
   ]
  },
  {
   "cell_type": "code",
   "execution_count": null,
   "id": "1e2eb813-a25a-4435-98bb-c4c4814a776b",
   "metadata": {},
   "outputs": [],
   "source": [
    "val new_fields = df_bronze_1.select(\"data-pk\").except(df_silver_before.select(\"data-pk\")).distinct().orderBy($\"data-pk\")"
   ]
  },
  {
   "cell_type": "code",
   "execution_count": null,
   "id": "a08ce1ae-2729-4fc6-9389-b39606a928fb",
   "metadata": {},
   "outputs": [],
   "source": [
    "val existing_fields = df_silver_before.select(\"data-pk\").except(df_bronze_1.select(\"data-pk\")).distinct().orderBy($\"data-pk\")"
   ]
  },
  {
   "cell_type": "code",
   "execution_count": null,
   "id": "5c52ef6d-0279-4bdf-a613-bad20f8d1577",
   "metadata": {},
   "outputs": [],
   "source": []
  }
 ],
 "metadata": {
  "kernelspec": {
   "display_name": "spylon-kernel",
   "language": "scala",
   "name": "spylon-kernel"
  },
  "language_info": {
   "codemirror_mode": "text/x-scala",
   "file_extension": ".scala",
   "help_links": [
    {
     "text": "MetaKernel Magics",
     "url": "https://metakernel.readthedocs.io/en/latest/source/README.html"
    }
   ],
   "mimetype": "text/x-scala",
   "name": "scala",
   "pygments_lexer": "scala",
   "version": "0.4.1"
  }
 },
 "nbformat": 4,
 "nbformat_minor": 5
}
