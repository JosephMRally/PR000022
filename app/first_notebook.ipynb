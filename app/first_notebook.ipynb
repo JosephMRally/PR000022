{
 "cells": [
  {
   "cell_type": "code",
   "execution_count": null,
   "id": "9187db97-e233-43e8-aeef-ee13ec0cfe66",
   "metadata": {},
   "outputs": [],
   "source": [
    "!python --version"
   ]
  },
  {
   "cell_type": "code",
   "execution_count": null,
   "id": "991e1f1a-f308-4247-91ac-aa6b10029e16",
   "metadata": {},
   "outputs": [],
   "source": [
    "print(\"Hello World!\")"
   ]
  },
  {
   "cell_type": "code",
   "execution_count": null,
   "id": "4cfa1eb1-c494-4336-b934-16e55fa7c1d3",
   "metadata": {},
   "outputs": [],
   "source": [
    "5+9*34"
   ]
  },
  {
   "cell_type": "code",
   "execution_count": null,
   "id": "19c5ed56-8604-422a-9e00-2bfbe173b3e0",
   "metadata": {},
   "outputs": [],
   "source": [
    "import findspark\n",
    "findspark.init()\n",
    "import pyspark\n",
    "from delta import *\n",
    "from pyspark.sql import SparkSession\n",
    "import pyspark.sql.functions as f"
   ]
  },
  {
   "cell_type": "code",
   "execution_count": null,
   "id": "8bb43802-e7e6-4b56-abdf-550f4fb7310f",
   "metadata": {},
   "outputs": [],
   "source": [
    "# create spark session\n",
    "spark = (SparkSession.builder.appName(\"SparkSample\")\n",
    "    .config(\"spark.jars.packages\", \"io.delta:delta-core_2.12:2.0.0\")         \n",
    "    .config(\"spark.sql.extensions\", \"io.delta.sql.DeltaSparkSessionExtension\")\n",
    "    .config(\"spark.sql.catalog.spark_catalog\", \"org.apache.spark.sql.delta.catalog.DeltaCatalog\")\n",
    "    .getOrCreate())"
   ]
  },
  {
   "cell_type": "code",
   "execution_count": null,
   "id": "8b2e118e-b0c2-46ee-98a2-ff7d030e1d54",
   "metadata": {},
   "outputs": [],
   "source": [
    "# read text file\n",
    "df_text_file = spark.read.text(\"textfile.txt\")\n",
    "df_text_file.show()\n",
    "df_text_file.show(truncate=False)\n",
    "\n",
    "df_total_words = df_text_file.withColumn('wordCount', f.size(f.split(f.col('value'), ' ')))\n",
    "df_total_words.show()\n",
    "\n",
    "# Word count example\n",
    "df_word_count = df_text_file.withColumn('word', f.explode(f.split(f.col('value'), ' '))).groupBy('word').count().sort('count', ascending=False)\n",
    "df_word_count.show()"
   ]
  },
  {
   "cell_type": "code",
   "execution_count": null,
   "id": "eb681486-4790-4f5a-bb0b-c7ff74414f25",
   "metadata": {},
   "outputs": [],
   "source": [
    "spark.stop()"
   ]
  }
 ],
 "metadata": {
  "kernelspec": {
   "display_name": "Python 3 (ipykernel)",
   "language": "python",
   "name": "python3"
  },
  "language_info": {
   "codemirror_mode": {
    "name": "ipython",
    "version": 3
   },
   "file_extension": ".py",
   "mimetype": "text/x-python",
   "name": "python",
   "nbconvert_exporter": "python",
   "pygments_lexer": "ipython3",
   "version": "3.11.4"
  }
 },
 "nbformat": 4,
 "nbformat_minor": 5
}
