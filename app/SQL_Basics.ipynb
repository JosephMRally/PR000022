{
 "cells": [
  {
   "cell_type": "code",
   "execution_count": 2,
   "id": "ea2089f1-173c-4708-8c34-a538edc223cd",
   "metadata": {},
   "outputs": [],
   "source": [
    "import pyspark\n",
    "from pyspark.sql import SparkSession\n",
    "import pyspark.sql.functions as F\n",
    "from pyspark.sql.window import Window\n",
    "from delta import *\n",
    "from delta.tables import DeltaTable\n",
    "import json\n",
    "import pandas as pd\n",
    "import datetime\n",
    "import time\n",
    "\n",
    "pd.set_option('display.max_rows', None)\n",
    "pd.set_option('display.max_columns', None)\n",
    "pd.set_option('display.width', 1000) # Adjust as needed\n",
    "pd.set_option('display.max_colwidth', None)\n",
    "\n",
    "spark = (pyspark.sql.SparkSession.builder.appName(\"MyApp\").master(\"local[*]\")\n",
    "    .config(\"spark.jars.packages\", \"io.delta:delta-spark_2.12:3.1.0\")\n",
    "    .config(\"spark.sql.extensions\", \"io.delta.sql.DeltaSparkSessionExtension\")\n",
    "    .config(\"spark.sql.catalog.spark_catalog\", \"org.apache.spark.sql.delta.catalog.DeltaCatalog\")\n",
    "    .config(\"spark.delta.logStore.class\", \"org.apache.spark.sql.delta.storage.S3SingleDriverLogStore\")\n",
    ".getOrCreate())\n",
    "spark.sparkContext.setLogLevel('ERROR')"
   ]
  },
  {
   "cell_type": "markdown",
   "id": "31a31354-f405-4ae1-804f-24ed207d6653",
   "metadata": {},
   "source": [
    "Create a dataframe from a list of "
   ]
  },
  {
   "cell_type": "code",
   "execution_count": 3,
   "id": "77d75e2a-7372-4048-abba-09e7362d7b17",
   "metadata": {},
   "outputs": [
    {
     "name": "stdout",
     "output_type": "stream",
     "text": [
      "+---+----+----------------+------+\n",
      "|age|  id|        metadata|  name|\n",
      "+---+----+----------------+------+\n",
      "| 37|2111|[[a, 1], [b, 2]]|OLIVIA|\n",
      "+---+----+----------------+------+\n",
      "\n"
     ]
    }
   ],
   "source": [
    "collection = [(\"James\",\"Smith\",\"USA\",\"CA\"),\n",
    "    (\"Michael\",\"Rose\",\"USA\",\"NY\"),\n",
    "    (\"Robert\",\"Williams\",\"USA\",\"CA\"),\n",
    "    (\"Maria\",\"Jones\",\"USA\",\"FL\")\n",
    "  ]\n",
    "df_array = spark.sparkContext.parallelize(df_array)\n",
    "df_array = spark.read.json(df_array)\n",
    "df_array.show()"
   ]
  },
  {
   "cell_type": "code",
   "execution_count": null,
   "id": "ed786414-8411-41a1-afb3-90c11b261c1a",
   "metadata": {},
   "outputs": [],
   "source": []
  },
  {
   "cell_type": "code",
   "execution_count": 3,
   "id": "d54bae78-9436-45c1-97c7-d3d4dadd147b",
   "metadata": {},
   "outputs": [
    {
     "ename": "SyntaxError",
     "evalue": "invalid syntax (4137734061.py, line 2)",
     "output_type": "error",
     "traceback": [
      "\u001b[0;36m  Cell \u001b[0;32mIn[3], line 2\u001b[0;36m\u001b[0m\n\u001b[0;31m    select 1\u001b[0m\n\u001b[0m           ^\u001b[0m\n\u001b[0;31mSyntaxError\u001b[0m\u001b[0;31m:\u001b[0m invalid syntax\n"
     ]
    }
   ],
   "source": [
    "%sql\n",
    "select 1"
   ]
  },
  {
   "cell_type": "code",
   "execution_count": null,
   "id": "772cddb3-ac67-4e7e-b2ef-22745964f5b5",
   "metadata": {},
   "outputs": [],
   "source": []
  }
 ],
 "metadata": {
  "kernelspec": {
   "display_name": "Python 3 (ipykernel)",
   "language": "python",
   "name": "python3"
  },
  "language_info": {
   "codemirror_mode": {
    "name": "ipython",
    "version": 3
   },
   "file_extension": ".py",
   "mimetype": "text/x-python",
   "name": "python",
   "nbconvert_exporter": "python",
   "pygments_lexer": "ipython3",
   "version": "3.11.4"
  }
 },
 "nbformat": 4,
 "nbformat_minor": 5
}
